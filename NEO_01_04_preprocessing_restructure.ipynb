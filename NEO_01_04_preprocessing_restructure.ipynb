{
 "cells": [
  {
   "cell_type": "code",
   "execution_count": 20,
   "id": "ff6d3531",
   "metadata": {
    "ExecuteTime": {
     "end_time": "2022-04-11T11:33:59.325049Z",
     "start_time": "2022-04-11T11:33:59.312865Z"
    }
   },
   "outputs": [],
   "source": [
    "import pandas as pd\n",
    "import warnings\n",
    "warnings.filterwarnings('ignore')\n",
    "import numpy as np"
   ]
  },
  {
   "cell_type": "markdown",
   "id": "6ef094b3",
   "metadata": {},
   "source": [
    "## Func"
   ]
  },
  {
   "cell_type": "code",
   "execution_count": 21,
   "id": "91642dc4",
   "metadata": {
    "ExecuteTime": {
     "end_time": "2022-04-11T11:33:59.715530Z",
     "start_time": "2022-04-11T11:33:59.703527Z"
    }
   },
   "outputs": [],
   "source": [
    "## 데이터 구성함수\n",
    "def multivariate_data(dataset, target, start_index, end_index, history_size,\n",
    "                      target_size, step, single_step=False):\n",
    "    data = []\n",
    "    labels = []\n",
    "\n",
    "    start_index = start_index + history_size\n",
    "    if end_index is None:\n",
    "        end_index = len(dataset) - target_size\n",
    "\n",
    "    for i in range(start_index, end_index):\n",
    "        indices = range(i-history_size, i, step)\n",
    "        data.append(dataset[indices])\n",
    "\n",
    "        if single_step:\n",
    "            labels.append(target[i+target_size])\n",
    "        else:\n",
    "            labels.append(target[i:i+target_size])\n",
    "\n",
    "    return np.array(data), np.array(labels)"
   ]
  },
  {
   "cell_type": "markdown",
   "id": "8aebfd70",
   "metadata": {},
   "source": [
    "## Data"
   ]
  },
  {
   "cell_type": "code",
   "execution_count": 22,
   "id": "d5389dd0",
   "metadata": {
    "ExecuteTime": {
     "end_time": "2022-04-11T11:34:00.874076Z",
     "start_time": "2022-04-11T11:34:00.848070Z"
    }
   },
   "outputs": [],
   "source": [
    "## 필터링버전\n",
    "df_SPY = pd.read_csv('data/engineered/edf_SPY.csv', index_col=0)\n",
    "df_QQQ = pd.read_csv('data/engineered/edf_QQQ.csv', index_col=0)\n",
    "df_VEA = pd.read_csv('data/engineered/edf_VEA.csv', index_col=0)\n",
    "df_VWO = pd.read_csv('data/engineered/edf_VWO.csv', index_col=0)\n",
    "df_TLT = pd.read_csv('data/engineered/edf_TLT.csv', index_col=0)\n",
    "df_IEF = pd.read_csv('data/engineered/edf_IEF.csv', index_col=0)\n",
    "df_SHY = pd.read_csv('data/engineered/edf_SHY.csv', index_col=0)\n",
    "df_IAU = pd.read_csv('data/engineered/edf_IAU.csv', index_col=0)\n",
    "## df_XLF = pd.read_csv('data/edf_XLF.csv', index_col=0)"
   ]
  },
  {
   "cell_type": "code",
   "execution_count": 23,
   "id": "4d1a95a8",
   "metadata": {
    "ExecuteTime": {
     "end_time": "2022-04-11T11:34:01.867227Z",
     "start_time": "2022-04-11T11:34:01.824167Z"
    }
   },
   "outputs": [],
   "source": [
    "## 논필터링버전\n",
    "df_SPY = pd.read_csv('data/engineered/edf_SPY_ori.csv', index_col=0)\n",
    "df_QQQ = pd.read_csv('data/engineered/edf_QQQ_ori.csv', index_col=0)\n",
    "df_VEA = pd.read_csv('data/engineered/edf_VEA_ori.csv', index_col=0)\n",
    "df_VWO = pd.read_csv('data/engineered/edf_VWO_ori.csv', index_col=0)\n",
    "df_TLT = pd.read_csv('data/engineered/edf_TLT_ori.csv', index_col=0)\n",
    "df_IEF = pd.read_csv('data/engineered/edf_IEF_ori.csv', index_col=0)\n",
    "df_SHY = pd.read_csv('data/engineered/edf_SHY_ori.csv', index_col=0)\n",
    "df_IAU = pd.read_csv('data/engineered/edf_IAU_ori.csv', index_col=0)\n",
    "## df_XLF = pd.read_csv('data/edf_XLF.csv', index_col=0)"
   ]
  },
  {
   "cell_type": "code",
   "execution_count": 24,
   "id": "55f76919",
   "metadata": {
    "ExecuteTime": {
     "end_time": "2022-04-11T11:34:34.110028Z",
     "start_time": "2022-04-11T11:34:33.967333Z"
    }
   },
   "outputs": [],
   "source": [
    "## 구글트랜드 버전\n",
    "df_SPY = pd.read_csv('data/engineered/df_SPY_gt.csv', index_col=0)\n",
    "df_QQQ = pd.read_csv('data/engineered/df_QQQ_gt.csv', index_col=0)\n",
    "df_VEA = pd.read_csv('data/engineered/df_VEA_gt.csv', index_col=0)\n",
    "df_VWO = pd.read_csv('data/engineered/df_VWO_gt.csv', index_col=0)\n",
    "df_TLT = pd.read_csv('data/engineered/df_TLT_gt.csv', index_col=0)\n",
    "df_IEF = pd.read_csv('data/engineered/df_IEF_gt.csv', index_col=0)\n",
    "df_SHY = pd.read_csv('data/engineered/df_SHY_gt.csv', index_col=0)\n",
    "df_IAU = pd.read_csv('data/engineered/df_IAU_gt.csv', index_col=0)\n",
    "## df_XLF = pd.read_csv('data/edf_XLF.csv', index_col=0)"
   ]
  },
  {
   "cell_type": "code",
   "execution_count": 25,
   "id": "6f96e910",
   "metadata": {
    "ExecuteTime": {
     "end_time": "2022-04-11T11:34:34.861158Z",
     "start_time": "2022-04-11T11:34:34.845144Z"
    }
   },
   "outputs": [],
   "source": [
    "df_ls_rb = [df_SPY, df_QQQ, df_VEA, df_VWO, df_TLT, df_IEF, df_SHY, df_IAU]"
   ]
  },
  {
   "cell_type": "markdown",
   "id": "a05aa280",
   "metadata": {},
   "source": [
    "## Restructure"
   ]
  },
  {
   "cell_type": "code",
   "execution_count": 26,
   "id": "6d2cf15c",
   "metadata": {
    "ExecuteTime": {
     "end_time": "2022-04-11T11:34:36.972288Z",
     "start_time": "2022-04-11T11:34:36.845242Z"
    }
   },
   "outputs": [],
   "source": [
    "assets = ['SPY', 'QQQ', 'VEA', 'VWO', 'TLT', 'IEF', 'SHY', 'IAU']\n",
    "for i in range(len(df_ls_rb)):    \n",
    "    df = df_ls_rb[i].copy()\n",
    "    dataset = df.values\n",
    "    train_start = 0\n",
    "    train_end = len(dataset)-60 ## 최근 5년 ~ 1년(4개년도)\n",
    "    history_size = 24\n",
    "    target_size = 0\n",
    "    step = 1\n",
    "    single_step = True\n",
    "\n",
    "    valid_start = train_end-history_size\n",
    "    valid_end = len(dataset)-12 ## 최근 1년(1개년도)\n",
    "\n",
    "    test_start = valid_end-history_size\n",
    "    test_end = None\n",
    "\n",
    "    target = dataset[:, -1]\n",
    "\n",
    "    X_train, y_train = multivariate_data(dataset, target, train_start, train_end, history_size, target_size, step, single_step)\n",
    "    X_valid, y_valid = multivariate_data(dataset, target, valid_start, valid_end, history_size, target_size, step, single_step)\n",
    "    X_test, y_test = multivariate_data(dataset, target, test_start, test_end, history_size, target_size, step, single_step)\n",
    "\n",
    "    train_date = pd.DataFrame(df[train_start+history_size:train_end].index)\n",
    "    valid_date = pd.DataFrame(df[valid_start+history_size:valid_end].index)\n",
    "    test_date = pd.DataFrame(df[test_start+history_size:test_end].index)\n",
    "\n",
    "    np.save(f'data/modeling/{assets[i]}_train_X.npy',X_train)\n",
    "    np.save(f'data/modeling/{assets[i]}_train_y.npy',y_train)\n",
    "    np.save(f'data/modeling/{assets[i]}_valid_X.npy',X_valid)\n",
    "    np.save(f'data/modeling/{assets[i]}_valid_y.npy',y_valid)\n",
    "    np.save(f'data/modeling/{assets[i]}_test_X.npy',X_test)\n",
    "    np.save(f'data/modeling/{assets[i]}_test_y.npy',y_test)\n",
    "    \n",
    "    train_date.to_csv(f'data/modeling/{assets[i]}_train_ans.csv')\n",
    "    valid_date.to_csv(f'data/modeling/{assets[i]}_valid_ans.csv')\n",
    "    test_date.to_csv(f'data/modeling/{assets[i]}_test_ans.csv')"
   ]
  },
  {
   "cell_type": "code",
   "execution_count": null,
   "id": "2f98780b",
   "metadata": {},
   "outputs": [],
   "source": []
  },
  {
   "cell_type": "code",
   "execution_count": null,
   "id": "3663f98b",
   "metadata": {},
   "outputs": [],
   "source": []
  },
  {
   "cell_type": "code",
   "execution_count": null,
   "id": "388f8f65",
   "metadata": {},
   "outputs": [],
   "source": []
  }
 ],
 "metadata": {
  "hide_input": false,
  "kernelspec": {
   "display_name": "Python 3 (ipykernel)",
   "language": "python",
   "name": "python3"
  },
  "language_info": {
   "codemirror_mode": {
    "name": "ipython",
    "version": 3
   },
   "file_extension": ".py",
   "mimetype": "text/x-python",
   "name": "python",
   "nbconvert_exporter": "python",
   "pygments_lexer": "ipython3",
   "version": "3.9.7"
  },
  "toc": {
   "base_numbering": 1,
   "nav_menu": {},
   "number_sections": true,
   "sideBar": true,
   "skip_h1_title": false,
   "title_cell": "Table of Contents",
   "title_sidebar": "Contents",
   "toc_cell": false,
   "toc_position": {},
   "toc_section_display": true,
   "toc_window_display": false
  },
  "varInspector": {
   "cols": {
    "lenName": 16,
    "lenType": 16,
    "lenVar": 40
   },
   "kernels_config": {
    "python": {
     "delete_cmd_postfix": "",
     "delete_cmd_prefix": "del ",
     "library": "var_list.py",
     "varRefreshCmd": "print(var_dic_list())"
    },
    "r": {
     "delete_cmd_postfix": ") ",
     "delete_cmd_prefix": "rm(",
     "library": "var_list.r",
     "varRefreshCmd": "cat(var_dic_list()) "
    }
   },
   "types_to_exclude": [
    "module",
    "function",
    "builtin_function_or_method",
    "instance",
    "_Feature"
   ],
   "window_display": false
  }
 },
 "nbformat": 4,
 "nbformat_minor": 5
}
