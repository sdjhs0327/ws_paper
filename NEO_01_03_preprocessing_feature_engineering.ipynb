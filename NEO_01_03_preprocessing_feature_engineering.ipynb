{
 "cells": [
  {
   "cell_type": "code",
   "execution_count": 19,
   "id": "c7ed7729",
   "metadata": {
    "ExecuteTime": {
     "end_time": "2022-04-11T11:29:27.061464Z",
     "start_time": "2022-04-11T11:29:27.052452Z"
    }
   },
   "outputs": [],
   "source": [
    "import pandas as pd\n",
    "import warnings\n",
    "warnings.filterwarnings('ignore')\n",
    "import numpy as np\n",
    "import math\n",
    "import datetime as dt"
   ]
  },
  {
   "cell_type": "code",
   "execution_count": 20,
   "id": "f8bf920e",
   "metadata": {
    "ExecuteTime": {
     "end_time": "2022-04-11T11:29:27.272605Z",
     "start_time": "2022-04-11T11:29:27.268604Z"
    }
   },
   "outputs": [],
   "source": [
    "import matplotlib.pyplot as plt\n",
    "import seaborn as sns\n",
    "\n",
    "plt.rcParams[\"figure.figsize\"] = (7,5)"
   ]
  },
  {
   "cell_type": "code",
   "execution_count": 21,
   "id": "02dd520e",
   "metadata": {
    "ExecuteTime": {
     "end_time": "2022-04-11T11:29:27.635533Z",
     "start_time": "2022-04-11T11:29:27.628532Z"
    }
   },
   "outputs": [],
   "source": [
    "from statsmodels.stats.outliers_influence import variance_inflation_factor"
   ]
  },
  {
   "cell_type": "markdown",
   "id": "c70b8129",
   "metadata": {},
   "source": [
    "## Funcs"
   ]
  },
  {
   "cell_type": "code",
   "execution_count": 22,
   "id": "209cc786",
   "metadata": {
    "ExecuteTime": {
     "end_time": "2022-04-11T11:29:28.449596Z",
     "start_time": "2022-04-11T11:29:28.436593Z"
    }
   },
   "outputs": [],
   "source": [
    "## 극단값 보정 # 윈저라이징 #3std\n",
    "def clean_outlier(srs, n = 3):\n",
    "    srs = srs.copy()\n",
    "    ut = srs.mean() + n*srs.std()\n",
    "    lt = srs.mean() - n*srs.std()\n",
    "    srs[(srs > ut)] = ut\n",
    "    srs[(srs < lt)] = lt\n",
    "    return srs"
   ]
  },
  {
   "cell_type": "markdown",
   "id": "a3657da1",
   "metadata": {},
   "source": [
    "## Data"
   ]
  },
  {
   "cell_type": "code",
   "execution_count": 23,
   "id": "76453b01",
   "metadata": {
    "ExecuteTime": {
     "end_time": "2022-04-11T11:29:29.948603Z",
     "start_time": "2022-04-11T11:29:29.916844Z"
    }
   },
   "outputs": [],
   "source": [
    "macro = pd.read_csv('data/macro_encoded_sav.csv', index_col=0)\n",
    "macro.index = pd.to_datetime(macro.index).dropna()\n",
    "\n",
    "assets = pd.read_csv('data/assets_encoded_sav.csv', index_col=0)\n",
    "assets.index = pd.to_datetime(assets.index).dropna()\n",
    "\n",
    "macro_ori = pd.read_csv('data/macro.csv', index_col=0).pct_change().dropna()\n",
    "macro_ori.index = pd.to_datetime(macro_ori.index).dropna()\n",
    "assets_ori = pd.read_csv('data/assets.csv', index_col=0).pct_change().dropna()\n",
    "assets_ori.index = pd.to_datetime(assets_ori.index).dropna()"
   ]
  },
  {
   "cell_type": "code",
   "execution_count": 24,
   "id": "1df4acc8",
   "metadata": {
    "ExecuteTime": {
     "end_time": "2022-04-11T11:29:30.371463Z",
     "start_time": "2022-04-11T11:29:30.348840Z"
    }
   },
   "outputs": [],
   "source": [
    "## 구글트랜드\n",
    "GT_ori = pd.read_csv('data/GT_volume_20220411.csv', index_col=0).pct_change().dropna()\n",
    "GT_ori.index = pd.to_datetime(GT_ori.index)\n",
    "GT_ori = GT_ori.resample('M').last()"
   ]
  },
  {
   "cell_type": "code",
   "execution_count": 25,
   "id": "51b578b9",
   "metadata": {
    "ExecuteTime": {
     "end_time": "2022-04-11T11:29:33.101003Z",
     "start_time": "2022-04-11T11:29:33.084547Z"
    }
   },
   "outputs": [],
   "source": [
    "asss = ['SPY', 'QQQ', 'VEA', 'VWO', 'TLT', 'IEF', 'SHY', 'IAU']\n",
    "assets = assets[asss]"
   ]
  },
  {
   "cell_type": "markdown",
   "id": "91182a5c",
   "metadata": {},
   "source": [
    "### 변수선택"
   ]
  },
  {
   "cell_type": "code",
   "execution_count": 26,
   "id": "0e655638",
   "metadata": {
    "ExecuteTime": {
     "end_time": "2022-04-11T11:29:37.978185Z",
     "start_time": "2022-04-11T11:29:37.758131Z"
    }
   },
   "outputs": [],
   "source": [
    "## 분석 대상 데이터 ## 선행성\n",
    "dataset = macro.dropna().shift(1).dropna()\n",
    "## 이상값 제거\n",
    "dataset_v2 = dataset.dropna()\n",
    "for mac in dataset_v2.columns:\n",
    "    dataset_v2[mac] = clean_outlier(dataset_v2[mac], n = 2)\n",
    "\n",
    "## 활용설명변수\n",
    "dataset_v3 = dataset_v2.dropna()\n",
    "X_ = dataset_v3[['VIX', 'DG10', 'DG2', 'SPPE']]\n",
    "## 수익률\n",
    "df_rets = assets.dropna()\n",
    "## 자산별 12-1M\n",
    "df121M = assets.rolling(12).sum().shift(1).dropna()\n",
    "df121M.columns = df121M.columns + '12-1M'\n",
    "\n",
    "\n",
    "## 타겟자산과 다른자산(-1) 상관계수\n",
    "df_ls = []\n",
    "for col in df_rets.columns:\n",
    "    assets_ = list(df_rets.columns)\n",
    "    assets_.remove(col)\n",
    "    temp = df_rets[assets_].shift(1)\n",
    "    temp[col] = df_rets[col]\n",
    "    temp_corr = temp.corr()[col]\n",
    "    df_ls.append(temp)\n",
    "\n",
    "## 후보 변수 결합\n",
    "df_ls2 = []\n",
    "for i in range(len(df_ls)):\n",
    "    temp = pd.concat([X_, df121M, df_ls[i]], axis=1).dropna()\n",
    "    df_ls2.append(temp)\n",
    "    \n",
    "## 상관계수 0.1이상 변수만 남김\n",
    "df_ls3 = []\n",
    "for i in range(len(df_ls2)):\n",
    "    df = df_ls2[i]\n",
    "    temp_corr = df.corr()[df.columns[-1]] \n",
    "    df_ls3.append(df[temp_corr[abs(temp_corr) >= .25].index])\n",
    "    \n",
    "## vif 10이하 변수만 남김\n",
    "df_ls4 = []\n",
    "for i in range(len(df_ls3)):\n",
    "    df = df_ls3[i]\n",
    "    X = df[df.columns[:-1]] \n",
    "    vif = pd.DataFrame()\n",
    "    vif[\"features\"] = X.columns\n",
    "    vif[\"VIF\"] = [variance_inflation_factor(X.values, i) for i in range(X.shape[1])]\n",
    "\n",
    "    temp = df[vif['features'][vif['VIF'] < 10]]\n",
    "    temp[df.columns[-1]] = df[df.columns[-1]]\n",
    "    df_ls4.append(temp)"
   ]
  },
  {
   "cell_type": "markdown",
   "id": "960c667e",
   "metadata": {},
   "source": [
    "### Set 구성"
   ]
  },
  {
   "cell_type": "code",
   "execution_count": 27,
   "id": "3384436b",
   "metadata": {
    "ExecuteTime": {
     "end_time": "2022-04-11T11:29:38.623090Z",
     "start_time": "2022-04-11T11:29:38.535061Z"
    }
   },
   "outputs": [],
   "source": [
    "## 모델링 대상 데이터 lag없음\n",
    "dataset = macro.dropna().dropna()\n",
    "## 이상값 제거\n",
    "dataset_v2 = dataset.dropna()\n",
    "for mac in dataset_v2.columns:\n",
    "    dataset_v2[mac] = clean_outlier(dataset_v2[mac], n = 2)\n",
    "\n",
    "## 활용설명변수\n",
    "dataset_v3 = dataset_v2.dropna()\n",
    "X_ = dataset_v3[['VIX', 'DG10', 'DG2', 'SPPE']]\n",
    "## 수익률\n",
    "df_rets = assets.dropna()\n",
    "## 자산별 12-1M\n",
    "df121M = assets.rolling(12).sum().shift(1).dropna()\n",
    "df121M.columns = df121M.columns + '12-1M'\n",
    "\n",
    "df_ = []\n",
    "for col in df_rets.columns:\n",
    "    assets_ = list(df_rets.columns)\n",
    "    assets_.remove(col)\n",
    "    temp = df_rets[assets_]\n",
    "    temp[col] = df_rets[col]\n",
    "    df_.append(temp)\n",
    "\n",
    "## 후보 변수 결합\n",
    "dfs = []\n",
    "for i in range(len(df_ls4)):\n",
    "    temp = pd.concat([X_, df121M, df_[i]], axis=1).dropna()\n",
    "    temp = temp[df_ls4[i].columns]\n",
    "    dfs.append(temp)"
   ]
  },
  {
   "cell_type": "code",
   "execution_count": 28,
   "id": "38376a0e",
   "metadata": {
    "ExecuteTime": {
     "end_time": "2022-04-11T11:29:39.298560Z",
     "start_time": "2022-04-11T11:29:39.285551Z"
    }
   },
   "outputs": [],
   "source": [
    "df_SPY, df_QQQ, df_VEA, df_VWO, df_TLT, df_IEF, df_SHY, df_IAU = dfs"
   ]
  },
  {
   "cell_type": "code",
   "execution_count": 121,
   "id": "07e9d537",
   "metadata": {
    "ExecuteTime": {
     "end_time": "2022-04-02T09:11:37.286057Z",
     "start_time": "2022-04-02T09:11:37.242029Z"
    }
   },
   "outputs": [],
   "source": [
    "df_SPY.to_csv('data/engineered/edf_SPY.csv')\n",
    "df_QQQ.to_csv('data/engineered/edf_QQQ.csv')\n",
    "df_VEA.to_csv('data/engineered/edf_VEA.csv')\n",
    "df_VWO.to_csv('data/engineered/edf_VWO.csv')\n",
    "df_TLT.to_csv('data/engineered/edf_TLT.csv')\n",
    "df_IEF.to_csv('data/engineered/edf_IEF.csv')\n",
    "df_SHY.to_csv('data/engineered/edf_SHY.csv')\n",
    "df_IAU.to_csv('data/engineered/edf_IAU.csv')\n",
    "## df_XLF.to_csv('data/edf_XLF.csv')"
   ]
  },
  {
   "cell_type": "code",
   "execution_count": 29,
   "id": "49444698",
   "metadata": {
    "ExecuteTime": {
     "end_time": "2022-04-11T11:29:50.667994Z",
     "start_time": "2022-04-11T11:29:50.647989Z"
    }
   },
   "outputs": [],
   "source": [
    "## 필터 없는 원천데이터에서 변수선택만한 버전(인코더용)\n",
    "\n",
    "## 수익률\n",
    "ori_rets = assets_ori.dropna()\n",
    "## 자산별 12-1M\n",
    "ori121M = assets_ori.rolling(12).sum().shift(1).dropna()\n",
    "ori121M.columns = ori121M.columns + '12-1M'\n",
    "\n",
    "temp = pd.concat([ori121M, X_, ori_rets], axis=1).dropna()\n",
    "\n",
    "df_SPY_ori = temp[df_SPY.columns]\n",
    "df_QQQ_ori = temp[df_QQQ.columns]\n",
    "df_VEA_ori = temp[df_VEA.columns]\n",
    "df_VWO_ori = temp[df_VWO.columns]\n",
    "df_TLT_ori = temp[df_TLT.columns]\n",
    "df_IEF_ori = temp[df_IEF.columns]\n",
    "df_SHY_ori = temp[df_SHY.columns]\n",
    "df_IAU_ori = temp[df_IAU.columns]"
   ]
  },
  {
   "cell_type": "code",
   "execution_count": 36,
   "id": "a35bfbff",
   "metadata": {
    "ExecuteTime": {
     "end_time": "2022-04-11T11:32:37.153160Z",
     "start_time": "2022-04-11T11:32:37.120152Z"
    }
   },
   "outputs": [],
   "source": [
    "## 구글트랜드 병합\n",
    "df_SPY_gt =  pd.concat([df_SPY_ori, GT_ori], axis=1).dropna()\n",
    "df_QQQ_gt =  pd.concat([df_QQQ_ori, GT_ori], axis=1).dropna()\n",
    "df_VEA_gt =  pd.concat([df_VEA_ori, GT_ori], axis=1).dropna()\n",
    "df_VWO_gt =  pd.concat([df_VWO_ori, GT_ori], axis=1).dropna()\n",
    "df_TLT_gt =  pd.concat([df_TLT_ori, GT_ori], axis=1).dropna()\n",
    "df_IEF_gt =  pd.concat([df_IEF_ori, GT_ori], axis=1).dropna()\n",
    "df_SHY_gt =  pd.concat([df_SHY_ori, GT_ori], axis=1).dropna()\n",
    "df_IAU_gt =  pd.concat([df_IAU_ori, GT_ori], axis=1).dropna()"
   ]
  },
  {
   "cell_type": "code",
   "execution_count": 135,
   "id": "9a7aa332",
   "metadata": {
    "ExecuteTime": {
     "end_time": "2022-04-02T10:46:51.648973Z",
     "start_time": "2022-04-02T10:46:51.626843Z"
    }
   },
   "outputs": [],
   "source": [
    "## 변수선택 없음\n",
    "df_SPY_ori = temp[['SPY12-1M', 'QQQ12-1M', 'VEA12-1M', 'VWO12-1M', 'TLT12-1M', 'IEF12-1M',\n",
    "                   'SHY12-1M', 'IAU12-1M', 'XLF12-1M', 'VIX', 'DG10', 'DG2', 'SPPE',\n",
    "                   'QQQ', 'VEA', 'VWO', 'TLT', 'IEF', 'SHY', 'IAU', 'XLF', 'SPY']]\n",
    "df_QQQ_ori = temp[['SPY12-1M', 'QQQ12-1M', 'VEA12-1M', 'VWO12-1M', 'TLT12-1M', 'IEF12-1M',\n",
    "                   'SHY12-1M', 'IAU12-1M', 'XLF12-1M', 'VIX', 'DG10', 'DG2', 'SPPE', 'SPY',\n",
    "                   'VEA', 'VWO', 'TLT', 'IEF', 'SHY', 'IAU', 'XLF', 'QQQ']]\n",
    "df_VEA_ori = temp[['SPY12-1M', 'QQQ12-1M', 'VEA12-1M', 'VWO12-1M', 'TLT12-1M', 'IEF12-1M',\n",
    "                   'SHY12-1M', 'IAU12-1M', 'XLF12-1M', 'VIX', 'DG10', 'DG2', 'SPPE', 'SPY',\n",
    "                   'QQQ', 'VWO', 'TLT', 'IEF', 'SHY', 'IAU', 'XLF', 'VEA']]\n",
    "df_VWO_ori = temp[['SPY12-1M', 'QQQ12-1M', 'VEA12-1M', 'VWO12-1M', 'TLT12-1M', 'IEF12-1M',\n",
    "                   'SHY12-1M', 'IAU12-1M', 'XLF12-1M', 'VIX', 'DG10', 'DG2', 'SPPE', 'SPY',\n",
    "                   'QQQ', 'VEA', 'TLT', 'IEF', 'SHY', 'IAU', 'XLF', 'VWO']]\n",
    "df_TLT_ori = temp[['SPY12-1M', 'QQQ12-1M', 'VEA12-1M', 'VWO12-1M', 'TLT12-1M', 'IEF12-1M',\n",
    "                   'SHY12-1M', 'IAU12-1M', 'XLF12-1M', 'VIX', 'DG10', 'DG2', 'SPPE', 'SPY',\n",
    "                   'QQQ', 'VEA', 'VWO', 'IEF', 'SHY', 'IAU', 'XLF', 'TLT']]\n",
    "df_IEF_ori = temp[['SPY12-1M', 'QQQ12-1M', 'VEA12-1M', 'VWO12-1M', 'TLT12-1M', 'IEF12-1M',\n",
    "                   'SHY12-1M', 'IAU12-1M', 'XLF12-1M', 'VIX', 'DG10', 'DG2', 'SPPE', 'SPY',\n",
    "                   'QQQ', 'VEA', 'VWO', 'TLT', 'SHY', 'IAU', 'XLF', 'IEF']]\n",
    "df_SHY_ori = temp[['SPY12-1M', 'QQQ12-1M', 'VEA12-1M', 'VWO12-1M', 'TLT12-1M', 'IEF12-1M',\n",
    "                   'SHY12-1M', 'IAU12-1M', 'XLF12-1M', 'VIX', 'DG10', 'DG2', 'SPPE', 'SPY',\n",
    "                   'QQQ', 'VEA', 'VWO', 'TLT', 'IEF', 'IAU', 'XLF', 'SHY']]\n",
    "df_IAU_ori = temp[['SPY12-1M', 'QQQ12-1M', 'VEA12-1M', 'VWO12-1M', 'TLT12-1M', 'IEF12-1M',\n",
    "                   'SHY12-1M', 'IAU12-1M', 'XLF12-1M', 'VIX', 'DG10', 'DG2', 'SPPE', 'SPY',\n",
    "                   'QQQ', 'VEA', 'VWO', 'TLT', 'IEF', 'SHY', 'XLF', 'IAU']]"
   ]
  },
  {
   "cell_type": "code",
   "execution_count": 136,
   "id": "4977d6f6",
   "metadata": {
    "ExecuteTime": {
     "end_time": "2022-04-02T10:46:57.375712Z",
     "start_time": "2022-04-02T10:46:57.290686Z"
    }
   },
   "outputs": [],
   "source": [
    "df_SPY_ori.to_csv('data/engineered/edf_SPY_ori.csv')\n",
    "df_QQQ_ori.to_csv('data/engineered/edf_QQQ_ori.csv')\n",
    "df_VEA_ori.to_csv('data/engineered/edf_VEA_ori.csv')\n",
    "df_VWO_ori.to_csv('data/engineered/edf_VWO_ori.csv')\n",
    "df_TLT_ori.to_csv('data/engineered/edf_TLT_ori.csv')\n",
    "df_IEF_ori.to_csv('data/engineered/edf_IEF_ori.csv')\n",
    "df_SHY_ori.to_csv('data/engineered/edf_SHY_ori.csv')\n",
    "df_IAU_ori.to_csv('data/engineered/edf_IAU_ori.csv')"
   ]
  },
  {
   "cell_type": "code",
   "execution_count": 37,
   "id": "d2cb82a4",
   "metadata": {
    "ExecuteTime": {
     "end_time": "2022-04-11T11:33:36.436163Z",
     "start_time": "2022-04-11T11:33:36.279130Z"
    }
   },
   "outputs": [],
   "source": [
    "## 구글트랜드 추가\n",
    "df_SPY_gt.to_csv('data/engineered/df_SPY_gt.csv')\n",
    "df_QQQ_gt.to_csv('data/engineered/df_QQQ_gt.csv')\n",
    "df_VEA_gt.to_csv('data/engineered/df_VEA_gt.csv')\n",
    "df_VWO_gt.to_csv('data/engineered/df_VWO_gt.csv')\n",
    "df_TLT_gt.to_csv('data/engineered/df_TLT_gt.csv')\n",
    "df_IEF_gt.to_csv('data/engineered/df_IEF_gt.csv')\n",
    "df_SHY_gt.to_csv('data/engineered/df_SHY_gt.csv')\n",
    "df_IAU_gt.to_csv('data/engineered/df_IAU_gt.csv')"
   ]
  },
  {
   "cell_type": "code",
   "execution_count": null,
   "id": "79b7ed55",
   "metadata": {},
   "outputs": [],
   "source": []
  }
 ],
 "metadata": {
  "hide_input": false,
  "kernelspec": {
   "display_name": "Python 3 (ipykernel)",
   "language": "python",
   "name": "python3"
  },
  "language_info": {
   "codemirror_mode": {
    "name": "ipython",
    "version": 3
   },
   "file_extension": ".py",
   "mimetype": "text/x-python",
   "name": "python",
   "nbconvert_exporter": "python",
   "pygments_lexer": "ipython3",
   "version": "3.9.7"
  },
  "toc": {
   "base_numbering": 1,
   "nav_menu": {},
   "number_sections": true,
   "sideBar": true,
   "skip_h1_title": false,
   "title_cell": "Table of Contents",
   "title_sidebar": "Contents",
   "toc_cell": false,
   "toc_position": {},
   "toc_section_display": true,
   "toc_window_display": false
  },
  "varInspector": {
   "cols": {
    "lenName": 16,
    "lenType": 16,
    "lenVar": 40
   },
   "kernels_config": {
    "python": {
     "delete_cmd_postfix": "",
     "delete_cmd_prefix": "del ",
     "library": "var_list.py",
     "varRefreshCmd": "print(var_dic_list())"
    },
    "r": {
     "delete_cmd_postfix": ") ",
     "delete_cmd_prefix": "rm(",
     "library": "var_list.r",
     "varRefreshCmd": "cat(var_dic_list()) "
    }
   },
   "types_to_exclude": [
    "module",
    "function",
    "builtin_function_or_method",
    "instance",
    "_Feature"
   ],
   "window_display": false
  }
 },
 "nbformat": 4,
 "nbformat_minor": 5
}
