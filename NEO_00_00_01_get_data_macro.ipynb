{
 "cells": [
  {
   "cell_type": "code",
   "execution_count": 1,
   "metadata": {
    "ExecuteTime": {
     "end_time": "2022-04-02T04:43:39.254862Z",
     "start_time": "2022-04-02T04:43:38.717724Z"
    }
   },
   "outputs": [],
   "source": [
    "## 데이터 기초가공\n",
    "import pandas as pd\n",
    "import warnings\n",
    "warnings.filterwarnings('ignore')\n",
    "import numpy as np\n",
    "import datetime as dt"
   ]
  },
  {
   "cell_type": "code",
   "execution_count": 2,
   "metadata": {
    "ExecuteTime": {
     "end_time": "2022-04-02T04:43:39.494899Z",
     "start_time": "2022-04-02T04:43:39.270850Z"
    }
   },
   "outputs": [],
   "source": [
    "## 데이터 소스\n",
    "import nasdaqdatalink\n",
    "## my_api = 'dAYUigNjxz-ysAhsdbcx'\n",
    "## FRED 정보 수집\n",
    "from fredapi import Fred\n",
    "fred = Fred(api_key='cfb4f49f5c1a9396f671b8049d992e56')"
   ]
  },
  {
   "cell_type": "markdown",
   "metadata": {},
   "source": [
    "## get_API"
   ]
  },
  {
   "cell_type": "code",
   "execution_count": 3,
   "metadata": {
    "ExecuteTime": {
     "end_time": "2022-04-02T04:43:50.066370Z",
     "start_time": "2022-04-02T04:43:40.424774Z"
    }
   },
   "outputs": [],
   "source": [
    "## FRED\n",
    "CPI = fred.get_series('CPILFESL').resample('M').last() ## 딜레이 발생; 익월초에 전월데이터를 발표함\n",
    "## M2 = fred.get_series('M2').resample('M').last()\n",
    "## GDP = fred.get_series('GDPC1').resample('M').last()\n",
    "UNRATE = fred.get_series('UNRATE').resample('M').last() ## 딜레이 발생; 익월초에 전월데이터를 발표함\n",
    "DGS10 = fred.get_series('DGS10').resample('M').last()\n",
    "DGS2 = fred.get_series('DGS2').resample('M').last()\n",
    "VIX = fred.get_series('VIXCLS').resample('M').last()\n",
    "## NAQ\n",
    "SPPE = nasdaqdatalink.get('MULTPL/SP500_PE_RATIO_MONTH').resample('M').last()\n",
    "SPDIV = nasdaqdatalink.get('MULTPL/SP500_DIV_YIELD_YEAR').resample('M').last()"
   ]
  },
  {
   "cell_type": "markdown",
   "metadata": {},
   "source": [
    "## Data"
   ]
  },
  {
   "cell_type": "code",
   "execution_count": 4,
   "metadata": {
    "ExecuteTime": {
     "end_time": "2022-04-02T04:43:51.040179Z",
     "start_time": "2022-04-02T04:43:51.026166Z"
    }
   },
   "outputs": [],
   "source": [
    "## 주요변수 'VIX', 'DG10', 'DG2', 'SPPE'\n",
    "## 즉시 획득 가능 변수 'VIX', 'DG10', 'DG2'\n",
    "## 획들 딜레이 변수 'SPPE' => 확인결과 실제로 변수선택에서는 활용되지않음"
   ]
  },
  {
   "cell_type": "code",
   "execution_count": 5,
   "metadata": {
    "ExecuteTime": {
     "end_time": "2022-04-02T04:43:51.433509Z",
     "start_time": "2022-04-02T04:43:51.410531Z"
    }
   },
   "outputs": [],
   "source": [
    "df = pd.concat([CPI, UNRATE, DGS10, DGS2, VIX, SPPE, SPDIV], axis=1)\n",
    "df.columns = ['CPI', 'UNR', 'DG10', 'DG2', 'VIX', 'SPPE', 'SPDIV']"
   ]
  },
  {
   "cell_type": "code",
   "execution_count": 6,
   "metadata": {
    "ExecuteTime": {
     "end_time": "2022-04-02T04:43:51.842369Z",
     "start_time": "2022-04-02T04:43:51.834375Z"
    }
   },
   "outputs": [],
   "source": [
    "df = df.fillna(method='pad').dropna()"
   ]
  },
  {
   "cell_type": "markdown",
   "metadata": {},
   "source": [
    "## Save"
   ]
  },
  {
   "cell_type": "code",
   "execution_count": 8,
   "metadata": {
    "ExecuteTime": {
     "end_time": "2022-04-02T04:43:58.895258Z",
     "start_time": "2022-04-02T04:43:58.875243Z"
    }
   },
   "outputs": [],
   "source": [
    "df.to_csv('data/macro.csv')"
   ]
  }
 ],
 "metadata": {
  "hide_input": false,
  "kernelspec": {
   "display_name": "Python 3 (ipykernel)",
   "language": "python",
   "name": "python3"
  },
  "language_info": {
   "codemirror_mode": {
    "name": "ipython",
    "version": 3
   },
   "file_extension": ".py",
   "mimetype": "text/x-python",
   "name": "python",
   "nbconvert_exporter": "python",
   "pygments_lexer": "ipython3",
   "version": "3.9.7"
  },
  "toc": {
   "base_numbering": 1,
   "nav_menu": {},
   "number_sections": true,
   "sideBar": true,
   "skip_h1_title": false,
   "title_cell": "Table of Contents",
   "title_sidebar": "Contents",
   "toc_cell": false,
   "toc_position": {},
   "toc_section_display": true,
   "toc_window_display": false
  },
  "varInspector": {
   "cols": {
    "lenName": 16,
    "lenType": 16,
    "lenVar": 40
   },
   "kernels_config": {
    "python": {
     "delete_cmd_postfix": "",
     "delete_cmd_prefix": "del ",
     "library": "var_list.py",
     "varRefreshCmd": "print(var_dic_list())"
    },
    "r": {
     "delete_cmd_postfix": ") ",
     "delete_cmd_prefix": "rm(",
     "library": "var_list.r",
     "varRefreshCmd": "cat(var_dic_list()) "
    }
   },
   "types_to_exclude": [
    "module",
    "function",
    "builtin_function_or_method",
    "instance",
    "_Feature"
   ],
   "window_display": false
  }
 },
 "nbformat": 4,
 "nbformat_minor": 2
}
