{
 "cells": [
  {
   "cell_type": "code",
   "execution_count": 1,
   "id": "c7ed7729",
   "metadata": {
    "ExecuteTime": {
     "end_time": "2022-04-02T04:49:56.193006Z",
     "start_time": "2022-04-02T04:49:55.650883Z"
    }
   },
   "outputs": [],
   "source": [
    "import pandas as pd\n",
    "import warnings\n",
    "warnings.filterwarnings('ignore')\n",
    "import numpy as np\n",
    "import math\n",
    "import datetime as dt"
   ]
  },
  {
   "cell_type": "code",
   "execution_count": 2,
   "id": "f8bf920e",
   "metadata": {
    "ExecuteTime": {
     "end_time": "2022-04-02T04:49:57.453291Z",
     "start_time": "2022-04-02T04:49:56.225013Z"
    }
   },
   "outputs": [],
   "source": [
    "import matplotlib.pyplot as plt\n",
    "import seaborn as sns\n",
    "\n",
    "plt.rcParams[\"figure.figsize\"] = (7,5)"
   ]
  },
  {
   "cell_type": "code",
   "execution_count": 3,
   "id": "02dd520e",
   "metadata": {
    "ExecuteTime": {
     "end_time": "2022-04-02T04:49:57.603334Z",
     "start_time": "2022-04-02T04:49:57.485299Z"
    }
   },
   "outputs": [],
   "source": [
    "from statsmodels.stats.outliers_influence import variance_inflation_factor"
   ]
  },
  {
   "cell_type": "markdown",
   "id": "c70b8129",
   "metadata": {},
   "source": [
    "## Funcs"
   ]
  },
  {
   "cell_type": "code",
   "execution_count": 4,
   "id": "209cc786",
   "metadata": {
    "ExecuteTime": {
     "end_time": "2022-04-02T04:49:58.278477Z",
     "start_time": "2022-04-02T04:49:58.262474Z"
    }
   },
   "outputs": [],
   "source": [
    "## 극단값 보정 # 윈저라이징 #3std\n",
    "def clean_outlier(srs, n = 3):\n",
    "    srs = srs.copy()\n",
    "    ut = srs.mean() + n*srs.std()\n",
    "    lt = srs.mean() - n*srs.std()\n",
    "    srs[(srs > ut)] = ut\n",
    "    srs[(srs < lt)] = lt\n",
    "    return srs"
   ]
  },
  {
   "cell_type": "markdown",
   "id": "a3657da1",
   "metadata": {},
   "source": [
    "## Data"
   ]
  },
  {
   "cell_type": "code",
   "execution_count": 5,
   "id": "76453b01",
   "metadata": {
    "ExecuteTime": {
     "end_time": "2022-04-02T04:50:01.640209Z",
     "start_time": "2022-04-02T04:50:01.607201Z"
    }
   },
   "outputs": [],
   "source": [
    "macro = pd.read_csv('data/macro_encoded_sav.csv', index_col=0)\n",
    "## macro = pd.read_csv('data/macro.csv', index_col=0)\n",
    "macro.index = pd.to_datetime(macro.index).dropna()\n",
    "\n",
    "assets = pd.read_csv('data/assets_encoded_sav.csv', index_col=0)\n",
    "## assets = pd.read_csv('data/assets.csv', index_col=0)\n",
    "assets.index = pd.to_datetime(assets.index).dropna()"
   ]
  },
  {
   "cell_type": "code",
   "execution_count": 6,
   "id": "51b578b9",
   "metadata": {
    "ExecuteTime": {
     "end_time": "2022-04-02T04:50:02.660439Z",
     "start_time": "2022-04-02T04:50:02.646436Z"
    }
   },
   "outputs": [],
   "source": [
    "asss = ['SPY', 'QQQ', 'VEA', 'VWO', 'TLT', 'IEF', 'SHY', 'IAU']\n",
    "assets = assets[asss]"
   ]
  },
  {
   "cell_type": "markdown",
   "id": "960c667e",
   "metadata": {},
   "source": [
    "### 변수파생 구성"
   ]
  },
  {
   "cell_type": "code",
   "execution_count": 20,
   "id": "3384436b",
   "metadata": {
    "ExecuteTime": {
     "end_time": "2022-04-02T05:04:26.192772Z",
     "start_time": "2022-04-02T05:04:26.086720Z"
    }
   },
   "outputs": [],
   "source": [
    "## 모델링 대상 데이터 lag없음\n",
    "dataset = macro.dropna().dropna()\n",
    "## 이상값 제거\n",
    "dataset_v2 = dataset.dropna()\n",
    "for mac in dataset_v2.columns:\n",
    "    dataset_v2[mac] = clean_outlier(dataset_v2[mac], n = 2)\n",
    "\n",
    "## 활용설명변수\n",
    "dataset_v3 = dataset_v2.dropna()\n",
    "X_ = dataset_v3.copy()\n",
    "## 수익률\n",
    "df_rets = assets.dropna()\n",
    "## 자산별 12-1M\n",
    "df121M = assets.rolling(12).sum().shift(1).dropna()\n",
    "df121M.columns = df121M.columns + '12-1M'\n",
    "\n",
    "df_ = []\n",
    "for col in df_rets.columns:\n",
    "    assets_ = list(df_rets.columns)\n",
    "    assets_.remove(col)\n",
    "    temp = df_rets[assets_]\n",
    "    temp[col] = df_rets[col]\n",
    "    df_.append(temp)\n",
    "\n",
    "## 후보 변수 결합\n",
    "dfs = []\n",
    "for i in range(len(df_)):\n",
    "    temp = pd.concat([X_, df121M, df_[i]], axis=1).dropna()\n",
    "    dfs.append(temp)"
   ]
  },
  {
   "cell_type": "code",
   "execution_count": 25,
   "id": "d3f62f15",
   "metadata": {
    "ExecuteTime": {
     "end_time": "2022-04-02T05:04:47.002960Z",
     "start_time": "2022-04-02T05:04:46.992948Z"
    }
   },
   "outputs": [],
   "source": [
    "df_SPY, df_QQQ, df_VEA, df_VWO, df_TLT, df_IEF, df_SHY, df_IAU = dfs"
   ]
  },
  {
   "cell_type": "code",
   "execution_count": 27,
   "id": "07e9d537",
   "metadata": {
    "ExecuteTime": {
     "end_time": "2022-04-02T05:05:01.467662Z",
     "start_time": "2022-04-02T05:05:01.378616Z"
    }
   },
   "outputs": [],
   "source": [
    "df_SPY.to_csv('data/engineered/edf_SPY.csv')\n",
    "df_QQQ.to_csv('data/engineered/edf_QQQ.csv')\n",
    "df_VEA.to_csv('data/engineered/edf_VEA.csv')\n",
    "df_VWO.to_csv('data/engineered/edf_VWO.csv')\n",
    "df_TLT.to_csv('data/engineered/edf_TLT.csv')\n",
    "df_IEF.to_csv('data/engineered/edf_IEF.csv')\n",
    "df_SHY.to_csv('data/engineered/edf_SHY.csv')\n",
    "df_IAU.to_csv('data/engineered/edf_IAU.csv')\n",
    "## df_XLF.to_csv('data/edf_XLF.csv')"
   ]
  },
  {
   "cell_type": "code",
   "execution_count": null,
   "id": "6eee11c3",
   "metadata": {},
   "outputs": [],
   "source": []
  }
 ],
 "metadata": {
  "hide_input": false,
  "kernelspec": {
   "display_name": "Python 3 (ipykernel)",
   "language": "python",
   "name": "python3"
  },
  "language_info": {
   "codemirror_mode": {
    "name": "ipython",
    "version": 3
   },
   "file_extension": ".py",
   "mimetype": "text/x-python",
   "name": "python",
   "nbconvert_exporter": "python",
   "pygments_lexer": "ipython3",
   "version": "3.9.7"
  },
  "toc": {
   "base_numbering": 1,
   "nav_menu": {},
   "number_sections": true,
   "sideBar": true,
   "skip_h1_title": false,
   "title_cell": "Table of Contents",
   "title_sidebar": "Contents",
   "toc_cell": false,
   "toc_position": {},
   "toc_section_display": true,
   "toc_window_display": false
  },
  "varInspector": {
   "cols": {
    "lenName": 16,
    "lenType": 16,
    "lenVar": 40
   },
   "kernels_config": {
    "python": {
     "delete_cmd_postfix": "",
     "delete_cmd_prefix": "del ",
     "library": "var_list.py",
     "varRefreshCmd": "print(var_dic_list())"
    },
    "r": {
     "delete_cmd_postfix": ") ",
     "delete_cmd_prefix": "rm(",
     "library": "var_list.r",
     "varRefreshCmd": "cat(var_dic_list()) "
    }
   },
   "types_to_exclude": [
    "module",
    "function",
    "builtin_function_or_method",
    "instance",
    "_Feature"
   ],
   "window_display": false
  }
 },
 "nbformat": 4,
 "nbformat_minor": 5
}
