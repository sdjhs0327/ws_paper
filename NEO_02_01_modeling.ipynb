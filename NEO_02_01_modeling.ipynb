{
 "cells": [
  {
   "cell_type": "code",
   "execution_count": 87,
   "id": "d1be0ab3",
   "metadata": {
    "ExecuteTime": {
     "end_time": "2022-04-13T11:01:25.546558Z",
     "start_time": "2022-04-13T11:01:25.537545Z"
    }
   },
   "outputs": [],
   "source": [
    "import torch\n",
    "import torch.nn as nn\n",
    "import torch.nn.functional as F\n",
    "import numpy as np\n",
    "from torch.utils.data import Dataset, DataLoader\n",
    "import torch.optim as optim\n",
    "from tqdm.notebook import tqdm as tqdm \n",
    "import pandas as pd\n",
    "\n",
    "import matplotlib.pyplot as plt"
   ]
  },
  {
   "cell_type": "code",
   "execution_count": 88,
   "id": "2d0823a6",
   "metadata": {
    "ExecuteTime": {
     "end_time": "2022-04-13T11:01:25.711585Z",
     "start_time": "2022-04-13T11:01:25.706583Z"
    }
   },
   "outputs": [],
   "source": [
    "from datetime import date"
   ]
  },
  {
   "cell_type": "markdown",
   "id": "72f442d0",
   "metadata": {},
   "source": [
    "## Data"
   ]
  },
  {
   "cell_type": "code",
   "execution_count": 89,
   "id": "ec562d3e",
   "metadata": {
    "ExecuteTime": {
     "end_time": "2022-04-13T11:01:26.116977Z",
     "start_time": "2022-04-13T11:01:26.107972Z"
    }
   },
   "outputs": [],
   "source": [
    "## , 'QQQ', 'VEA', 'VWO', 'TLT', 'IEF', 'SHY', 'IAU'"
   ]
  },
  {
   "cell_type": "code",
   "execution_count": 90,
   "id": "6b9b017f",
   "metadata": {
    "ExecuteTime": {
     "end_time": "2022-04-13T11:01:26.311773Z",
     "start_time": "2022-04-13T11:01:26.297769Z"
    }
   },
   "outputs": [],
   "source": [
    "assets = ['SPY']"
   ]
  },
  {
   "cell_type": "code",
   "execution_count": 91,
   "id": "85131683",
   "metadata": {
    "ExecuteTime": {
     "end_time": "2022-04-13T11:01:26.551826Z",
     "start_time": "2022-04-13T11:01:26.528822Z"
    }
   },
   "outputs": [],
   "source": [
    "train_X_ls = []\n",
    "train_y_ls = []\n",
    "valid_X_ls = []\n",
    "valid_y_ls = []\n",
    "test_X_ls = []\n",
    "test_y_ls = []\n",
    "\n",
    "#데이터 로딩\n",
    "for ass in assets:\n",
    "    train_X_ls.append(np.load(f'data/modeling/{ass}_train_X.npy'))\n",
    "    train_y_ls.append(np.load(f'data/modeling/{ass}_train_y.npy'))\n",
    "    valid_X_ls.append(np.load(f'data/modeling/{ass}_valid_X.npy'))\n",
    "    valid_y_ls.append(np.load(f'data/modeling/{ass}_valid_y.npy'))\n",
    "    test_X_ls.append(np.load(f'data/modeling/{ass}_test_X.npy'))\n",
    "    test_y_ls.append(np.load(f'data/modeling/{ass}_test_y.npy'))\n",
    "\n",
    "## 모든자산군에 날짜는 같지만..\n",
    "train_ans_ls = []\n",
    "valid_ans_ls = []\n",
    "test_ans_ls = []\n",
    "for ass in assets:    \n",
    "    train_ans_ls.append(pd.read_csv(f'data/modeling/{ass}_train_ans.csv', index_col=0))\n",
    "    valid_ans_ls.append(pd.read_csv(f'data/modeling/{ass}_valid_ans.csv', index_col=0))\n",
    "    test_ans_ls.append(pd.read_csv(f'data/modeling/{ass}_test_ans.csv', index_col=0))"
   ]
  },
  {
   "cell_type": "markdown",
   "id": "935ba9f7",
   "metadata": {},
   "source": [
    "## Model"
   ]
  },
  {
   "cell_type": "code",
   "execution_count": 92,
   "id": "a0d49e85",
   "metadata": {
    "ExecuteTime": {
     "end_time": "2022-04-13T11:01:27.094991Z",
     "start_time": "2022-04-13T11:01:27.073987Z"
    }
   },
   "outputs": [],
   "source": [
    "# EGRU 모델\n",
    "class scorer(nn.Module):\n",
    "    def __init__(self, input_dim, hidden_dim, kernel1, kernel2):\n",
    "        super(scorer, self).__init__()\n",
    "        self.hidden_dim = hidden_dim\n",
    "        # 인코더\n",
    "        self.encoder1 = nn.Conv2d(1, 128, kernel_size=(kernel1, kernel2))\n",
    "        self.rel_enc = nn.ReLU()\n",
    "        self.encoder2 = nn.Conv2d(128, 1, kernel_size=(1, 1))\n",
    "        \n",
    "        self.rnn1 = nn.GRU(input_dim - kernel2 + 1, hidden_dim, bidirectional=False)\n",
    "        # 층이 깊으면 학습이 안돼서 제외\n",
    "        ## self.rnn2 = nn.GRU(hidden_dim, hidden_dim + int(hidden_dim/2), bidirectional=False)\n",
    "        ## self.rnn3 = nn.GRU(int(hidden_dim/2), int(hidden_dim/4), bidirectional=False)\n",
    "        self.dl1 = nn.Dropout(p=.5)\n",
    "        self.l1 = nn.Linear(hidden_dim, hidden_dim + int(hidden_dim/2))\n",
    "        self.rel = nn.LeakyReLU()\n",
    "        ## self.dl2 = nn.Dropout(p=.5)\n",
    "        self.l2 = nn.Linear(hidden_dim + int(hidden_dim/2), hidden_dim)\n",
    "        self.l3 = nn.Linear(hidden_dim, 1)\n",
    "\n",
    "    def forward(self, x):\n",
    "        x = x.reshape(x.shape[0], 1, x.shape[1], x.shape[2])\n",
    "        enc = self.encoder1(x)\n",
    "        enc = self.rel_enc(enc)\n",
    "        enc = self.encoder2(enc)\n",
    "        enc = enc.reshape(enc.shape[0], enc.shape[2], enc.shape[3])\n",
    "        \n",
    "        enc = enc.permute(1, 0, 2)\n",
    "        ## enc = self.encoder(x)\n",
    "        ## dec = self.decoder(enc)\n",
    "        \n",
    "        out, _ = self.rnn1(enc)\n",
    "        ## out,_ = self.rnn2(out)\n",
    "        ## out,_ = self.rnn3(out)\n",
    "\n",
    "        mr = out[-1]\n",
    "        out = self.l1(mr)\n",
    "        out = self.dl1(out)\n",
    "        out = self.rel(out)\n",
    "        ## out = self.dl2(out)\n",
    "        out = self.l2(out)\n",
    "        out = self.l3(out)\n",
    "\n",
    "        return out.flatten()"
   ]
  },
  {
   "cell_type": "code",
   "execution_count": 93,
   "id": "5c26544f",
   "metadata": {
    "ExecuteTime": {
     "end_time": "2022-04-13T11:01:27.380057Z",
     "start_time": "2022-04-13T11:01:27.361042Z"
    }
   },
   "outputs": [
    {
     "data": {
      "text/plain": [
       "'# EGRU 모델\\nclass scorer(nn.Module):\\n    def __init__(self, input_dim, hidden_dim):\\n        super(scorer, self).__init__()\\n        self.hidden_dim = hidden_dim\\n        # 인코더\\n        self.encoder = nn.Sequential(\\n            nn.Linear(input_dim, int(input_dim/2)),\\n            nn.LeakyReLU(),\\n            nn.Linear(int(input_dim/2), int(input_dim/2)))\\n        # 디코더\\n        self.decoder = nn.Sequential(\\n            nn.Linear(int(input_dim/2), int(input_dim/2)),\\n            nn.LeakyReLU(),\\n            nn.Linear(int(input_dim/2), input_dim))\\n\\n        self.rnn1 = nn.GRU(input_dim, hidden_dim, bidirectional=False)\\n        # 층이 깊으면 학습이 안돼서 제외\\n        ## self.rnn2 = nn.GRU(hidden_dim, hidden_dim + int(hidden_dim/2), bidirectional=False)\\n        ## self.rnn3 = nn.GRU(int(hidden_dim/2), int(hidden_dim/4), bidirectional=False)\\n        self.dl1 = nn.Dropout(p=.5)\\n        self.l1 = nn.Linear(hidden_dim, hidden_dim + int(hidden_dim/2))\\n        self.rel = nn.LeakyReLU()\\n        ## self.dl2 = nn.Dropout(p=.5)\\n        self.l2 = nn.Linear(hidden_dim + int(hidden_dim/2), hidden_dim)\\n        self.l3 = nn.Linear(hidden_dim, 1)\\n\\n    def forward(self, x):\\n        x = x.permute(1, 0, 2)\\n        ## enc = self.encoder(x)\\n        ## dec = self.decoder(enc)\\n        \\n        out, _ = self.rnn1(x)\\n        ## out,_ = self.rnn2(out)\\n        ## out,_ = self.rnn3(out)\\n\\n        mr = out[-1]\\n        out = self.l1(mr)\\n        out = self.dl1(out)\\n        out = self.rel(out)\\n        ## out = self.dl2(out)\\n        out = self.l2(out)\\n        out = self.l3(out)\\n\\n        return out.flatten()'"
      ]
     },
     "execution_count": 93,
     "metadata": {},
     "output_type": "execute_result"
    }
   ],
   "source": [
    "'''# EGRU 모델\n",
    "class scorer(nn.Module):\n",
    "    def __init__(self, input_dim, hidden_dim):\n",
    "        super(scorer, self).__init__()\n",
    "        self.hidden_dim = hidden_dim\n",
    "        # 인코더\n",
    "        self.encoder = nn.Sequential(\n",
    "            nn.Linear(input_dim, int(input_dim/2)),\n",
    "            nn.LeakyReLU(),\n",
    "            nn.Linear(int(input_dim/2), int(input_dim/2)))\n",
    "        # 디코더\n",
    "        self.decoder = nn.Sequential(\n",
    "            nn.Linear(int(input_dim/2), int(input_dim/2)),\n",
    "            nn.LeakyReLU(),\n",
    "            nn.Linear(int(input_dim/2), input_dim))\n",
    "\n",
    "        self.rnn1 = nn.GRU(input_dim, hidden_dim, bidirectional=False)\n",
    "        # 층이 깊으면 학습이 안돼서 제외\n",
    "        ## self.rnn2 = nn.GRU(hidden_dim, hidden_dim + int(hidden_dim/2), bidirectional=False)\n",
    "        ## self.rnn3 = nn.GRU(int(hidden_dim/2), int(hidden_dim/4), bidirectional=False)\n",
    "        self.dl1 = nn.Dropout(p=.5)\n",
    "        self.l1 = nn.Linear(hidden_dim, hidden_dim + int(hidden_dim/2))\n",
    "        self.rel = nn.LeakyReLU()\n",
    "        ## self.dl2 = nn.Dropout(p=.5)\n",
    "        self.l2 = nn.Linear(hidden_dim + int(hidden_dim/2), hidden_dim)\n",
    "        self.l3 = nn.Linear(hidden_dim, 1)\n",
    "\n",
    "    def forward(self, x):\n",
    "        x = x.permute(1, 0, 2)\n",
    "        ## enc = self.encoder(x)\n",
    "        ## dec = self.decoder(enc)\n",
    "        \n",
    "        out, _ = self.rnn1(x)\n",
    "        ## out,_ = self.rnn2(out)\n",
    "        ## out,_ = self.rnn3(out)\n",
    "\n",
    "        mr = out[-1]\n",
    "        out = self.l1(mr)\n",
    "        out = self.dl1(out)\n",
    "        out = self.rel(out)\n",
    "        ## out = self.dl2(out)\n",
    "        out = self.l2(out)\n",
    "        out = self.l3(out)\n",
    "\n",
    "        return out.flatten()'''"
   ]
  },
  {
   "cell_type": "code",
   "execution_count": 94,
   "id": "e27070e8",
   "metadata": {
    "ExecuteTime": {
     "end_time": "2022-04-13T11:01:27.984512Z",
     "start_time": "2022-04-13T11:01:27.969499Z"
    }
   },
   "outputs": [],
   "source": [
    "#데이터 클래스 정의\n",
    "class Dataset(Dataset):\n",
    "    def __init__(self, X, y):\n",
    "\n",
    "        self.X = torch.tensor(X).float()\n",
    "        self.y = torch.tensor(y).float()\n",
    "\n",
    "    def __getitem__(self, i):\n",
    "        return (self.X[i], self.y[i])\n",
    "\n",
    "    def __len__(self):\n",
    "        return (len(self.y))"
   ]
  },
  {
   "cell_type": "code",
   "execution_count": 95,
   "id": "369aa759",
   "metadata": {
    "ExecuteTime": {
     "end_time": "2022-04-13T11:01:28.360328Z",
     "start_time": "2022-04-13T11:01:28.346315Z"
    }
   },
   "outputs": [],
   "source": [
    "#훈련 하이퍼 파라미터\n",
    "batch_size = 4\n",
    "lr = .001\n",
    "num_epoch = 50\n",
    "log_interval = 10\n",
    "loss_fn = nn.MSELoss()\n",
    "model_name = 'scoring.pth'\n",
    "sc_hidden_dim = 2048\n",
    "wei_dec = 0.00001\n",
    "\n",
    "kernel1 = train_X_ls[0].shape[1]//8 ## 시계열 커널\n",
    "kernel2 = train_X_ls[0].shape[2] ## 설명변수 커널"
   ]
  },
  {
   "cell_type": "code",
   "execution_count": 96,
   "id": "3492edc1",
   "metadata": {
    "ExecuteTime": {
     "end_time": "2022-04-13T11:02:04.411133Z",
     "start_time": "2022-04-13T11:01:28.954451Z"
    },
    "scrolled": true
   },
   "outputs": [
    {
     "name": "stdout",
     "output_type": "stream",
     "text": [
      "SPY 시작!!\n",
      "Train 시작!\n",
      "Epoch:  1  Batch ID:  0  Train Loss:  0.00024106306955218315\n",
      "Epoch:  1  Batch ID:  10  Train Loss:  0.015743258429376347\n",
      "Epoch:  1  Batch ID:  20  Train Loss:  0.009248176186485494\n",
      "epoch:  1  Valid Loss:  0.0011253864504396915\n",
      "Epoch:  2  Batch ID:  0  Train Loss:  0.0006306772120296955\n",
      "Epoch:  2  Batch ID:  10  Train Loss:  0.0007389350542904471\n",
      "Epoch:  2  Batch ID:  20  Train Loss:  0.0010392627868679397\n",
      "epoch:  2  Valid Loss:  0.0005122630166927896\n",
      "Epoch:  3  Batch ID:  0  Train Loss:  0.0001854998554335907\n",
      "Epoch:  3  Batch ID:  10  Train Loss:  0.0005295364952127619\n",
      "Epoch:  3  Batch ID:  20  Train Loss:  0.0005649872333119024\n",
      "epoch:  3  Valid Loss:  0.000590893637612074\n",
      "Epoch:  4  Batch ID:  0  Train Loss:  0.00010499740892555565\n",
      "Epoch:  4  Batch ID:  10  Train Loss:  0.00039355234581638467\n",
      "Epoch:  4  Batch ID:  20  Train Loss:  0.00045455437412740486\n",
      "epoch:  4  Valid Loss:  0.0006236864404248384\n",
      "Epoch:  5  Batch ID:  0  Train Loss:  5.684173811459914e-05\n",
      "Epoch:  5  Batch ID:  10  Train Loss:  0.00035249966194070027\n",
      "Epoch:  5  Batch ID:  20  Train Loss:  0.0003427953793540101\n",
      "epoch:  5  Valid Loss:  0.0005504208008157244\n",
      "Epoch:  6  Batch ID:  0  Train Loss:  0.00010536306217545643\n",
      "Epoch:  6  Batch ID:  10  Train Loss:  0.000257855906635417\n",
      "Epoch:  6  Batch ID:  20  Train Loss:  0.00023173281806521118\n",
      "epoch:  6  Valid Loss:  0.0006115544310887344\n",
      "Epoch:  7  Batch ID:  0  Train Loss:  0.00031573252636007965\n",
      "Epoch:  7  Batch ID:  10  Train Loss:  0.0002126003204135817\n",
      "Epoch:  7  Batch ID:  20  Train Loss:  0.0002256392330136372\n",
      "epoch:  7  Valid Loss:  0.000517796526158539\n",
      "Epoch:  8  Batch ID:  0  Train Loss:  0.000267158291535452\n",
      "Epoch:  8  Batch ID:  10  Train Loss:  0.0001788295657289299\n",
      "Epoch:  8  Batch ID:  20  Train Loss:  0.00017306089717922512\n",
      "epoch:  8  Valid Loss:  0.0005832824438887959\n",
      "Epoch:  9  Batch ID:  0  Train Loss:  0.0002539822307880968\n",
      "Epoch:  9  Batch ID:  10  Train Loss:  0.00015251942204486113\n",
      "Epoch:  9  Batch ID:  20  Train Loss:  0.00013465346650523964\n",
      "epoch:  9  Valid Loss:  0.0005020255484851077\n",
      "Epoch:  10  Batch ID:  0  Train Loss:  0.00016055782907642424\n",
      "Epoch:  10  Batch ID:  10  Train Loss:  0.0001585482340570624\n",
      "Epoch:  10  Batch ID:  20  Train Loss:  0.00012276204179648804\n",
      "epoch:  10  Valid Loss:  0.0005638943736509342\n",
      "Epoch:  11  Batch ID:  0  Train Loss:  0.00010205716534983367\n",
      "Epoch:  11  Batch ID:  10  Train Loss:  9.217324457660487e-05\n",
      "Epoch:  11  Batch ID:  20  Train Loss:  9.0719614101025e-05\n",
      "epoch:  11  Valid Loss:  0.0005115054264024366\n",
      "Epoch:  12  Batch ID:  0  Train Loss:  6.94076152285561e-05\n",
      "Epoch:  12  Batch ID:  10  Train Loss:  8.152988861680073e-05\n",
      "Epoch:  12  Batch ID:  20  Train Loss:  8.675604474969337e-05\n",
      "epoch:  12  Valid Loss:  0.0006196527804907722\n",
      "Epoch:  13  Batch ID:  0  Train Loss:  0.0002262646157760173\n",
      "Epoch:  13  Batch ID:  10  Train Loss:  0.0001128105746333445\n",
      "Epoch:  13  Batch ID:  20  Train Loss:  0.00010141360256793199\n",
      "epoch:  13  Valid Loss:  0.0005979411386457892\n",
      "Epoch:  14  Batch ID:  0  Train Loss:  8.984419400803745e-05\n",
      "Epoch:  14  Batch ID:  10  Train Loss:  6.325420446790469e-05\n",
      "Epoch:  14  Batch ID:  20  Train Loss:  5.14712970211154e-05\n",
      "epoch:  14  Valid Loss:  0.0005642026299028657\n",
      "Epoch:  15  Batch ID:  0  Train Loss:  4.20217402279377e-05\n",
      "Epoch:  15  Batch ID:  10  Train Loss:  8.387397313278846e-05\n",
      "Epoch:  15  Batch ID:  20  Train Loss:  0.00010262685550731563\n",
      "epoch:  15  Valid Loss:  0.0006140049548169676\n",
      "Epoch:  16  Batch ID:  0  Train Loss:  0.00010805318015627563\n",
      "Epoch:  16  Batch ID:  10  Train Loss:  8.795487354456617e-05\n",
      "Epoch:  16  Batch ID:  20  Train Loss:  8.15493008303747e-05\n",
      "epoch:  16  Valid Loss:  0.0005631465101032518\n",
      "Epoch:  17  Batch ID:  0  Train Loss:  5.527046960196458e-05\n",
      "Epoch:  17  Batch ID:  10  Train Loss:  5.736332638083365e-05\n",
      "Epoch:  17  Batch ID:  20  Train Loss:  6.11180229541441e-05\n",
      "epoch:  17  Valid Loss:  0.0005423784101973675\n",
      "Epoch:  18  Batch ID:  0  Train Loss:  3.3381620596628636e-05\n",
      "Epoch:  18  Batch ID:  10  Train Loss:  6.306899261041757e-05\n",
      "Epoch:  18  Batch ID:  20  Train Loss:  4.9930717025182235e-05\n",
      "epoch:  18  Valid Loss:  0.0005640933844309378\n",
      "Epoch:  19  Batch ID:  0  Train Loss:  2.4170056349248625e-05\n",
      "Epoch:  19  Batch ID:  10  Train Loss:  4.241903331024911e-05\n",
      "Epoch:  19  Batch ID:  20  Train Loss:  3.358530904863853e-05\n",
      "epoch:  19  Valid Loss:  0.0005664994744923509\n",
      "Epoch:  20  Batch ID:  0  Train Loss:  6.117690645623952e-05\n",
      "Epoch:  20  Batch ID:  10  Train Loss:  4.933295845562084e-05\n",
      "Epoch:  20  Batch ID:  20  Train Loss:  6.104026940755873e-05\n",
      "epoch:  20  Valid Loss:  0.0005675092264330791\n",
      "Epoch:  21  Batch ID:  0  Train Loss:  4.856312443735078e-05\n",
      "Epoch:  21  Batch ID:  10  Train Loss:  4.0989229422517717e-05\n",
      "Epoch:  21  Batch ID:  20  Train Loss:  4.6967813562202666e-05\n",
      "epoch:  21  Valid Loss:  0.0005675092264330791\n",
      "Epoch:  22  Batch ID:  0  Train Loss:  3.6704441299661994e-05\n",
      "Epoch:  22  Batch ID:  10  Train Loss:  4.431455553541045e-05\n",
      "Epoch:  22  Batch ID:  20  Train Loss:  3.578588300678391e-05\n",
      "epoch:  22  Valid Loss:  0.0005659447742800694\n",
      "Epoch:  23  Batch ID:  0  Train Loss:  2.131697146978695e-05\n",
      "Epoch:  23  Batch ID:  10  Train Loss:  4.311482883746397e-05\n",
      "Epoch:  23  Batch ID:  20  Train Loss:  3.907067452062274e-05\n",
      "epoch:  23  Valid Loss:  0.0005657009733113227\n",
      "Epoch:  24  Batch ID:  0  Train Loss:  3.3467946195742115e-05\n",
      "Epoch:  24  Batch ID:  10  Train Loss:  5.274779860800746e-05\n",
      "Epoch:  24  Batch ID:  20  Train Loss:  4.603666634682755e-05\n",
      "epoch:  24  Valid Loss:  0.0005591908969411937\n",
      "Epoch:  25  Batch ID:  0  Train Loss:  2.4024484446272254e-05\n",
      "Epoch:  25  Batch ID:  10  Train Loss:  4.7513032107169487e-05\n",
      "Epoch:  25  Batch ID:  20  Train Loss:  3.900710944868652e-05\n",
      "epoch:  25  Valid Loss:  0.000573161168479904\n",
      "Epoch:  26  Batch ID:  0  Train Loss:  5.948070338490652e-06\n",
      "Epoch:  26  Batch ID:  10  Train Loss:  4.044724139682578e-05\n",
      "Epoch:  26  Batch ID:  20  Train Loss:  4.271921778267608e-05\n",
      "epoch:  26  Valid Loss:  0.0006370126927019252\n",
      "Epoch:  27  Batch ID:  0  Train Loss:  4.9899994337465614e-05\n",
      "Epoch:  27  Batch ID:  10  Train Loss:  4.21200510655498e-05\n",
      "Epoch:  27  Batch ID:  20  Train Loss:  4.1525282194059054e-05\n",
      "epoch:  27  Valid Loss:  0.0005926516241743229\n",
      "Epoch:  28  Batch ID:  0  Train Loss:  4.541082671494223e-05\n",
      "Epoch:  28  Batch ID:  10  Train Loss:  4.5613414427366067e-05\n",
      "Epoch:  28  Batch ID:  20  Train Loss:  3.911165450041326e-05\n",
      "epoch:  28  Valid Loss:  0.0006043799682326304\n",
      "Epoch:  29  Batch ID:  0  Train Loss:  8.349354902748019e-05\n",
      "Epoch:  29  Batch ID:  10  Train Loss:  5.180817656351296e-05\n",
      "Epoch:  29  Batch ID:  20  Train Loss:  4.282275633505335e-05\n",
      "epoch:  29  Valid Loss:  0.0006226094362015525\n",
      "Epoch:  30  Batch ID:  0  Train Loss:  1.9051974959438667e-05\n",
      "Epoch:  30  Batch ID:  10  Train Loss:  5.798961931511506e-05\n",
      "Epoch:  30  Batch ID:  20  Train Loss:  8.442102959331048e-05\n",
      "epoch:  30  Valid Loss:  0.0006909671549995741\n",
      "Epoch:  31  Batch ID:  0  Train Loss:  0.00013292385847307742\n",
      "Epoch:  31  Batch ID:  10  Train Loss:  0.00010466972162248567\n",
      "Epoch:  31  Batch ID:  20  Train Loss:  7.6806375784058e-05\n",
      "epoch:  31  Valid Loss:  0.0006689197386246329\n",
      "Epoch:  32  Batch ID:  0  Train Loss:  4.572155376081355e-05\n",
      "Epoch:  32  Batch ID:  10  Train Loss:  0.0001005867348298621\n",
      "Epoch:  32  Batch ID:  20  Train Loss:  0.00012754946242022838\n",
      "epoch:  32  Valid Loss:  0.0006126667661495352\n",
      "Epoch:  33  Batch ID:  0  Train Loss:  4.99477464472875e-05\n",
      "Epoch:  33  Batch ID:  10  Train Loss:  9.567744779236487e-05\n",
      "Epoch:  33  Batch ID:  20  Train Loss:  0.00011917644189365784\n",
      "epoch:  33  Valid Loss:  0.0005265716633099752\n",
      "Epoch:  34  Batch ID:  0  Train Loss:  0.0001696849794825539\n",
      "Epoch:  34  Batch ID:  10  Train Loss:  0.00010603300523309207\n",
      "Epoch:  34  Batch ID:  20  Train Loss:  0.00011230390763168023\n",
      "epoch:  34  Valid Loss:  0.0004640160914277658\n",
      "Epoch:  35  Batch ID:  0  Train Loss:  3.761593688977882e-05\n",
      "Epoch:  35  Batch ID:  10  Train Loss:  0.00014517877835632217\n",
      "Epoch:  35  Batch ID:  20  Train Loss:  0.00018809291647076386\n",
      "epoch:  35  Valid Loss:  0.0006457794588641264\n",
      "Epoch:  36  Batch ID:  0  Train Loss:  0.00012928001524414867\n",
      "Epoch:  36  Batch ID:  10  Train Loss:  0.0002455937610648107\n"
     ]
    },
    {
     "name": "stdout",
     "output_type": "stream",
     "text": [
      "Epoch:  36  Batch ID:  20  Train Loss:  0.00024477226898376276\n",
      "epoch:  36  Valid Loss:  0.0006742148301176106\n",
      "Epoch:  37  Batch ID:  0  Train Loss:  9.648911509430036e-05\n",
      "Epoch:  37  Batch ID:  10  Train Loss:  8.84145131501348e-05\n",
      "Epoch:  37  Batch ID:  20  Train Loss:  0.00010570924678177107\n",
      "epoch:  37  Valid Loss:  0.0006886587846868982\n",
      "Epoch:  38  Batch ID:  0  Train Loss:  0.00015612106653861701\n",
      "Epoch:  38  Batch ID:  10  Train Loss:  0.00010747718203095825\n",
      "Epoch:  38  Batch ID:  20  Train Loss:  0.00011223883315584057\n",
      "epoch:  38  Valid Loss:  0.0005657405563397333\n",
      "Epoch:  39  Batch ID:  0  Train Loss:  6.68702632538043e-05\n",
      "Epoch:  39  Batch ID:  10  Train Loss:  0.0001274503257181178\n",
      "Epoch:  39  Batch ID:  20  Train Loss:  0.00012004712087738361\n",
      "epoch:  39  Valid Loss:  0.0005971337959636003\n",
      "Epoch:  40  Batch ID:  0  Train Loss:  0.00018777807417791337\n",
      "Epoch:  40  Batch ID:  10  Train Loss:  0.00012442160170228982\n",
      "Epoch:  40  Batch ID:  20  Train Loss:  0.0003019552197136883\n",
      "epoch:  40  Valid Loss:  0.0005715952805379251\n",
      "Epoch:  41  Batch ID:  0  Train Loss:  7.060132338665426e-05\n",
      "Epoch:  41  Batch ID:  10  Train Loss:  0.00016074178909713572\n",
      "Epoch:  41  Batch ID:  20  Train Loss:  0.00024736597636850394\n",
      "epoch:  41  Valid Loss:  0.0006805177223820161\n",
      "Epoch:  42  Batch ID:  0  Train Loss:  5.758699990110472e-05\n",
      "Epoch:  42  Batch ID:  10  Train Loss:  8.26884059444472e-05\n",
      "Epoch:  42  Batch ID:  20  Train Loss:  0.00015693715483523971\n",
      "epoch:  42  Valid Loss:  0.0006741051256540231\n",
      "Epoch:  43  Batch ID:  0  Train Loss:  0.0003133896389044821\n",
      "Epoch:  43  Batch ID:  10  Train Loss:  0.00014163559204792943\n",
      "Epoch:  43  Batch ID:  20  Train Loss:  0.00013398372478453288\n",
      "epoch:  43  Valid Loss:  0.0005180258085601963\n",
      "Epoch:  44  Batch ID:  0  Train Loss:  1.5608435205649585e-05\n",
      "Epoch:  44  Batch ID:  10  Train Loss:  4.415121805901766e-05\n",
      "Epoch:  44  Batch ID:  20  Train Loss:  5.311899851568298e-05\n",
      "epoch:  44  Valid Loss:  0.0005292535073143275\n",
      "Epoch:  45  Batch ID:  0  Train Loss:  6.7654291342478245e-06\n",
      "Epoch:  45  Batch ID:  10  Train Loss:  4.378728830157673e-05\n",
      "Epoch:  45  Batch ID:  20  Train Loss:  6.54060779977174e-05\n",
      "epoch:  45  Valid Loss:  0.0006999321946447404\n",
      "Epoch:  46  Batch ID:  0  Train Loss:  0.00012507168867159635\n",
      "Epoch:  46  Batch ID:  10  Train Loss:  7.614610413756137e-05\n",
      "Epoch:  46  Batch ID:  20  Train Loss:  8.158890436572532e-05\n",
      "epoch:  46  Valid Loss:  0.0006784470194058182\n",
      "Epoch:  47  Batch ID:  0  Train Loss:  6.428444521588972e-06\n",
      "Epoch:  47  Batch ID:  10  Train Loss:  3.8343917243434013e-05\n",
      "Epoch:  47  Batch ID:  20  Train Loss:  3.526481369980112e-05\n",
      "epoch:  47  Valid Loss:  0.0005954011176072527\n",
      "Epoch:  48  Batch ID:  0  Train Loss:  2.914225660788361e-05\n",
      "Epoch:  48  Batch ID:  10  Train Loss:  3.354499319191911e-05\n",
      "Epoch:  48  Batch ID:  20  Train Loss:  5.666205607840744e-05\n",
      "epoch:  48  Valid Loss:  0.0005005115781386849\n",
      "Epoch:  49  Batch ID:  0  Train Loss:  4.5893481001257896e-05\n",
      "Epoch:  49  Batch ID:  10  Train Loss:  3.696013279543629e-05\n",
      "Epoch:  49  Batch ID:  20  Train Loss:  4.980524558309948e-05\n",
      "epoch:  49  Valid Loss:  0.0006531461937508235\n",
      "Epoch:  50  Batch ID:  0  Train Loss:  3.21626357617788e-05\n",
      "Epoch:  50  Batch ID:  10  Train Loss:  3.34870141242308e-05\n",
      "Epoch:  50  Batch ID:  20  Train Loss:  3.5263739020830965e-05\n",
      "epoch:  50  Valid Loss:  0.0005507764217327349\n",
      "Test 시작!\n",
      "Test Loss:  0.0009487833497890582\n"
     ]
    }
   ],
   "source": [
    "trainloss_ls = []\n",
    "validloss_ls = []\n",
    "testloss_ls = []\n",
    "ans_ls = []\n",
    "hat_ls = []\n",
    "\n",
    "for i in  range(len(assets)):\n",
    "    print(f\"{assets[i]} 시작!!\")\n",
    "    #GRU모델\n",
    "    model = scorer(train_X_ls[i].shape[2], sc_hidden_dim, kernel1, kernel2).cuda()\n",
    "    ## optimizer\n",
    "    optimizer = optim.Adam(model.parameters(), lr=lr,  weight_decay = wei_dec)\n",
    "    scheduler = optim.lr_scheduler.CosineAnnealingLR(optimizer, T_max=20, eta_min=0) ## lr 스케줄러\n",
    "\n",
    "    ## Dataset\n",
    "    traindataset = Dataset(train_X_ls[i],train_y_ls[i])\n",
    "    validataset = Dataset(valid_X_ls[i],valid_y_ls[i])\n",
    "    testdataset = Dataset(test_X_ls[i],test_y_ls[i])\n",
    "    train_dataloader = torch.utils.data.DataLoader(traindataset, batch_size=batch_size)\n",
    "    valid_dataloader = torch.utils.data.DataLoader(validataset, batch_size=batch_size)\n",
    "    test_dataloader = torch.utils.data.DataLoader(testdataset, batch_size=batch_size)\n",
    "\n",
    "\n",
    "    print(\"Train 시작!\")\n",
    "    trl = []\n",
    "    vll = []\n",
    "    #training scheme\n",
    "    for i in range(num_epoch):\n",
    "        train_loss = 0\n",
    "        valid_loss = 0\n",
    "        model.train()\n",
    "        #### Training\n",
    "        for batch_id, (X,y) in enumerate(train_dataloader):\n",
    "            optimizer.zero_grad()\n",
    "            out = model(X.cuda())\n",
    "\n",
    "            loss = loss_fn(out,y.cuda())\n",
    "\n",
    "            loss.backward()\n",
    "            optimizer.step()\n",
    "\n",
    "            lossavg = (loss/len(y)).data.cpu().numpy()\n",
    "            train_loss += lossavg\n",
    "\n",
    "            if batch_id % log_interval == 0:\n",
    "                print('Epoch: ',i+1,' Batch ID: ',batch_id,' Train Loss: ',train_loss / (batch_id+1))\n",
    "            trl.append(train_loss / (batch_id+1))\n",
    "        scheduler.step()\n",
    "\n",
    "\n",
    "        #### Evaluation on Validset\n",
    "        model.eval()\n",
    "        for batch_id, (X,y) in enumerate(valid_dataloader):\n",
    "            out = model(X.cuda())\n",
    "\n",
    "            loss = loss_fn(out,y.cuda())\n",
    "\n",
    "            lossavg = (loss/len(y)).data.cpu().numpy()\n",
    "            valid_loss += lossavg\n",
    "        print('epoch: ',i+1,' Valid Loss: ',valid_loss / (batch_id+1))\n",
    "        if len(vll) > 0:\n",
    "            if max(vll) < valid_loss.item():\n",
    "                torch.save(model.state_dict(),model_name)\n",
    "        else:\n",
    "            torch.save(model.state_dict(),model_name)\n",
    "        vll.append((valid_loss/ (batch_id+1)))\n",
    "        \n",
    "    trainloss_ls.append(trl)\n",
    "    validloss_ls.append(vll)\n",
    "\n",
    "    ## Best Model\n",
    "    model.load_state_dict(torch.load(model_name))\n",
    "\n",
    "    print(\"Test 시작!\")\n",
    "    outs = []\n",
    "    ys = []\n",
    "    \n",
    "    model.eval()\n",
    "    ## trainset\n",
    "    for batch_id, (X,y) in enumerate(train_dataloader):\n",
    "        out = model(X.cuda())\n",
    "        outs += out.tolist()\n",
    "        ys += y.tolist()\n",
    "    ## validset\n",
    "    for batch_id, (X,y) in enumerate(valid_dataloader):\n",
    "        out = model(X.cuda())\n",
    "        outs += out.tolist()\n",
    "        ys += y.tolist()\n",
    "    ## testset\n",
    "    test_loss=0\n",
    "    for batch_id, (X,y) in enumerate(test_dataloader):\n",
    "        out = model(X.cuda())\n",
    "        loss = loss_fn(out,y.cuda())\n",
    "        lossavg = (loss/len(y)).data.cpu().numpy()\n",
    "        test_loss += lossavg\n",
    "        outs += out.tolist()\n",
    "        ys += y.tolist()\n",
    "        \n",
    "    print('Test Loss: ',test_loss / (batch_id+1))\n",
    "    testloss_ls.append(test_loss)\n",
    "    hat_ls.append(outs) \n",
    "    ans_ls.append(ys)"
   ]
  },
  {
   "cell_type": "code",
   "execution_count": 97,
   "id": "fe477074",
   "metadata": {
    "ExecuteTime": {
     "end_time": "2022-04-13T11:02:04.486133Z",
     "start_time": "2022-04-13T11:02:04.472129Z"
    }
   },
   "outputs": [
    {
     "data": {
      "text/plain": [
       "0.0004999999999999997"
      ]
     },
     "execution_count": 97,
     "metadata": {},
     "output_type": "execute_result"
    }
   ],
   "source": [
    "optimizer.param_groups[0]['lr']"
   ]
  },
  {
   "cell_type": "code",
   "execution_count": 98,
   "id": "6a08f729",
   "metadata": {
    "ExecuteTime": {
     "end_time": "2022-04-13T11:02:04.816452Z",
     "start_time": "2022-04-13T11:02:04.548146Z"
    }
   },
   "outputs": [
    {
     "name": "stdout",
     "output_type": "stream",
     "text": [
      "SPY\n",
      "Train loss\n"
     ]
    },
    {
     "data": {
      "image/png": "[encoded data removed]",
      "text/plain": [
       "<Figure size 432x288 with 1 Axes>"
      ]
     },
     "metadata": {
      "needs_background": "light"
     },
     "output_type": "display_data"
    },
    {
     "name": "stdout",
     "output_type": "stream",
     "text": [
      "Validation loss\n"
     ]
    },
    {
     "data": {
      "image/png": "[encoded data removed]",
      "text/plain": [
       "<Figure size 432x288 with 1 Axes>"
      ]
     },
     "metadata": {
      "needs_background": "light"
     },
     "output_type": "display_data"
    },
    {
     "name": "stdout",
     "output_type": "stream",
     "text": [
      "Test loss: 0.0028\n",
      "--------------------------------------------------------\n"
     ]
    }
   ],
   "source": [
    "for i in range(len(assets)):\n",
    "    print(assets[i])\n",
    "    print('Train loss')\n",
    "    plt.plot(trainloss_ls[i])\n",
    "    plt.show()\n",
    "    print('Validation loss')\n",
    "    plt.plot(validloss_ls[i])\n",
    "    plt.show()\n",
    "    print(f'Test loss: {testloss_ls[i].round(4)}')\n",
    "    print('--------------------------------------------------------')"
   ]
  },
  {
   "cell_type": "code",
   "execution_count": 99,
   "id": "0f75cfb3",
   "metadata": {
    "ExecuteTime": {
     "end_time": "2022-04-13T11:02:08.783729Z",
     "start_time": "2022-04-13T11:02:08.487661Z"
    },
    "scrolled": true
   },
   "outputs": [
    {
     "name": "stdout",
     "output_type": "stream",
     "text": [
      "SPY\n",
      "validation\n"
     ]
    },
    {
     "data": {
      "image/png": "[encoded data removed]",
      "text/plain": [
       "<Figure size 432x288 with 1 Axes>"
      ]
     },
     "metadata": {
      "needs_background": "light"
     },
     "output_type": "display_data"
    },
    {
     "name": "stdout",
     "output_type": "stream",
     "text": [
      "test\n"
     ]
    },
    {
     "data": {
      "image/png": "[encoded data removed]",
      "text/plain": [
       "<Figure size 432x288 with 1 Axes>"
      ]
     },
     "metadata": {
      "needs_background": "light"
     },
     "output_type": "display_data"
    }
   ],
   "source": [
    "score_ls = []\n",
    "for i in range(len(assets)): \n",
    "    print(assets[i])\n",
    "    df_answer = pd.concat([train_ans_ls[i], valid_ans_ls[i], test_ans_ls[i]])\n",
    "    df_answer[assets[i]] = ans_ls[i]\n",
    "    df_answer[assets[i]+'_hat'] = hat_ls[i]\n",
    "    print(\"validation\")\n",
    "    df_answer.set_index('0')['2017-05-31':].plot()\n",
    "    plt.show()\n",
    "    print(\"test\")\n",
    "    df_answer.set_index('0')['2021-05-31':].plot()\n",
    "    score_ls.append(df_answer.set_index('0'))\n",
    "    plt.show()"
   ]
  },
  {
   "cell_type": "code",
   "execution_count": 100,
   "id": "6ac2622f",
   "metadata": {
    "ExecuteTime": {
     "end_time": "2022-04-13T11:02:13.353475Z",
     "start_time": "2022-04-13T11:02:13.343470Z"
    }
   },
   "outputs": [],
   "source": [
    "result_df = pd.concat(score_ls, axis=1)"
   ]
  },
  {
   "cell_type": "code",
   "execution_count": 101,
   "id": "7c778d9a",
   "metadata": {
    "ExecuteTime": {
     "end_time": "2022-04-13T11:02:13.563519Z",
     "start_time": "2022-04-13T11:02:13.551516Z"
    }
   },
   "outputs": [],
   "source": [
    "test = result_df['2021-05-31':].copy()"
   ]
  },
  {
   "cell_type": "code",
   "execution_count": 102,
   "id": "265d106a",
   "metadata": {
    "ExecuteTime": {
     "end_time": "2022-04-13T11:02:13.878603Z",
     "start_time": "2022-04-13T11:02:13.871589Z"
    }
   },
   "outputs": [],
   "source": [
    "test['ans'] = test['SPY']>=0\n",
    "test['pred'] = test['SPY_hat']>=0"
   ]
  },
  {
   "cell_type": "code",
   "execution_count": 103,
   "id": "29247d1e",
   "metadata": {
    "ExecuteTime": {
     "end_time": "2022-04-13T11:02:15.208803Z",
     "start_time": "2022-04-13T11:02:15.191799Z"
    }
   },
   "outputs": [
    {
     "data": {
      "text/plain": [
       "0.75"
      ]
     },
     "execution_count": 103,
     "metadata": {},
     "output_type": "execute_result"
    }
   ],
   "source": [
    "(test['ans'] == test['pred']).sum()/len(test)"
   ]
  },
  {
   "cell_type": "code",
   "execution_count": 420,
   "id": "722441a5",
   "metadata": {
    "ExecuteTime": {
     "end_time": "2022-04-02T10:26:00.716261Z",
     "start_time": "2022-04-02T10:26:00.702259Z"
    }
   },
   "outputs": [],
   "source": [
    "date_idx = date.today().strftime('%Y-%m-%d')\n",
    "result_df.to_csv(f'data/result_{date_idx}.csv')"
   ]
  },
  {
   "cell_type": "code",
   "execution_count": null,
   "id": "092958fe",
   "metadata": {},
   "outputs": [],
   "source": []
  }
 ],
 "metadata": {
  "hide_input": false,
  "kernelspec": {
   "display_name": "Python 3 (ipykernel)",
   "language": "python",
   "name": "python3"
  },
  "language_info": {
   "codemirror_mode": {
    "name": "ipython",
    "version": 3
   },
   "file_extension": ".py",
   "mimetype": "text/x-python",
   "name": "python",
   "nbconvert_exporter": "python",
   "pygments_lexer": "ipython3",
   "version": "3.9.7"
  },
  "toc": {
   "base_numbering": 1,
   "nav_menu": {},
   "number_sections": true,
   "sideBar": true,
   "skip_h1_title": false,
   "title_cell": "Table of Contents",
   "title_sidebar": "Contents",
   "toc_cell": false,
   "toc_position": {},
   "toc_section_display": true,
   "toc_window_display": false
  },
  "varInspector": {
   "cols": {
    "lenName": 16,
    "lenType": 16,
    "lenVar": 40
   },
   "kernels_config": {
    "python": {
     "delete_cmd_postfix": "",
     "delete_cmd_prefix": "del ",
     "library": "var_list.py",
     "varRefreshCmd": "print(var_dic_list())"
    },
    "r": {
     "delete_cmd_postfix": ") ",
     "delete_cmd_prefix": "rm(",
     "library": "var_list.r",
     "varRefreshCmd": "cat(var_dic_list()) "
    }
   },
   "types_to_exclude": [
    "module",
    "function",
    "builtin_function_or_method",
    "instance",
    "_Feature"
   ],
   "window_display": false
  }
 },
 "nbformat": 4,
 "nbformat_minor": 5
}
