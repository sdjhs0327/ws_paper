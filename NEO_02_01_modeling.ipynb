{
 "cells": [
  {
   "cell_type": "code",
   "execution_count": 1,
   "id": "d1be0ab3",
   "metadata": {
    "ExecuteTime": {
     "end_time": "2022-04-13T10:45:01.604998Z",
     "start_time": "2022-04-13T10:44:54.950607Z"
    }
   },
   "outputs": [],
   "source": [
    "import torch\n",
    "import torch.nn as nn\n",
    "import torch.nn.functional as F\n",
    "import numpy as np\n",
    "from torch.utils.data import Dataset, DataLoader\n",
    "import torch.optim as optim\n",
    "from tqdm.notebook import tqdm as tqdm \n",
    "import pandas as pd\n",
    "\n",
    "import matplotlib.pyplot as plt"
   ]
  },
  {
   "cell_type": "code",
   "execution_count": 2,
   "id": "2d0823a6",
   "metadata": {
    "ExecuteTime": {
     "end_time": "2022-04-13T10:45:01.635008Z",
     "start_time": "2022-04-13T10:45:01.622004Z"
    }
   },
   "outputs": [],
   "source": [
    "from datetime import date"
   ]
  },
  {
   "cell_type": "markdown",
   "id": "72f442d0",
   "metadata": {},
   "source": [
    "## Data"
   ]
  },
  {
   "cell_type": "code",
   "execution_count": 3,
   "id": "ec562d3e",
   "metadata": {
    "ExecuteTime": {
     "end_time": "2022-04-13T10:45:01.665012Z",
     "start_time": "2022-04-13T10:45:01.651008Z"
    }
   },
   "outputs": [],
   "source": [
    "## , 'QQQ', 'VEA', 'VWO', 'TLT', 'IEF', 'SHY', 'IAU'"
   ]
  },
  {
   "cell_type": "code",
   "execution_count": 4,
   "id": "6b9b017f",
   "metadata": {
    "ExecuteTime": {
     "end_time": "2022-04-13T10:45:01.695018Z",
     "start_time": "2022-04-13T10:45:01.681015Z"
    }
   },
   "outputs": [],
   "source": [
    "assets = ['SPY']"
   ]
  },
  {
   "cell_type": "code",
   "execution_count": 5,
   "id": "85131683",
   "metadata": {
    "ExecuteTime": {
     "end_time": "2022-04-13T10:45:01.815046Z",
     "start_time": "2022-04-13T10:45:01.712023Z"
    }
   },
   "outputs": [],
   "source": [
    "train_X_ls = []\n",
    "train_y_ls = []\n",
    "valid_X_ls = []\n",
    "valid_y_ls = []\n",
    "test_X_ls = []\n",
    "test_y_ls = []\n",
    "\n",
    "#데이터 로딩\n",
    "for ass in assets:\n",
    "    train_X_ls.append(np.load(f'data/modeling/{ass}_train_X.npy'))\n",
    "    train_y_ls.append(np.load(f'data/modeling/{ass}_train_y.npy'))\n",
    "    valid_X_ls.append(np.load(f'data/modeling/{ass}_valid_X.npy'))\n",
    "    valid_y_ls.append(np.load(f'data/modeling/{ass}_valid_y.npy'))\n",
    "    test_X_ls.append(np.load(f'data/modeling/{ass}_test_X.npy'))\n",
    "    test_y_ls.append(np.load(f'data/modeling/{ass}_test_y.npy'))\n",
    "\n",
    "## 모든자산군에 날짜는 같지만..\n",
    "train_ans_ls = []\n",
    "valid_ans_ls = []\n",
    "test_ans_ls = []\n",
    "for ass in assets:    \n",
    "    train_ans_ls.append(pd.read_csv(f'data/modeling/{ass}_train_ans.csv', index_col=0))\n",
    "    valid_ans_ls.append(pd.read_csv(f'data/modeling/{ass}_valid_ans.csv', index_col=0))\n",
    "    test_ans_ls.append(pd.read_csv(f'data/modeling/{ass}_test_ans.csv', index_col=0))"
   ]
  },
  {
   "cell_type": "markdown",
   "id": "935ba9f7",
   "metadata": {},
   "source": [
    "## Model"
   ]
  },
  {
   "cell_type": "code",
   "execution_count": 27,
   "id": "a0d49e85",
   "metadata": {
    "ExecuteTime": {
     "end_time": "2022-04-13T10:47:21.366302Z",
     "start_time": "2022-04-13T10:47:21.347288Z"
    }
   },
   "outputs": [],
   "source": [
    "# EGRU 모델\n",
    "class scorer(nn.Module):\n",
    "    def __init__(self, input_dim, hidden_dim, kernel1, kernel2):\n",
    "        super(scorer, self).__init__()\n",
    "        self.hidden_dim = hidden_dim\n",
    "        # 인코더\n",
    "        self.encoder1 = nn.Conv2d(1, 128, kernel_size=(kernel1, kernel2))\n",
    "        self.rel_enc = nn.ReLU()\n",
    "        self.encoder2 = nn.Conv2d(128, 1, kernel_size=(1, 1))\n",
    "        \n",
    "        self.rnn1 = nn.GRU(input_dim - kernel2 + 1, hidden_dim, bidirectional=False)\n",
    "        # 층이 깊으면 학습이 안돼서 제외\n",
    "        ## self.rnn2 = nn.GRU(hidden_dim, hidden_dim + int(hidden_dim/2), bidirectional=False)\n",
    "        ## self.rnn3 = nn.GRU(int(hidden_dim/2), int(hidden_dim/4), bidirectional=False)\n",
    "        self.dl1 = nn.Dropout(p=.5)\n",
    "        self.l1 = nn.Linear(hidden_dim, hidden_dim + int(hidden_dim/2))\n",
    "        self.rel = nn.LeakyReLU()\n",
    "        ## self.dl2 = nn.Dropout(p=.5)\n",
    "        self.l2 = nn.Linear(hidden_dim + int(hidden_dim/2), hidden_dim)\n",
    "        self.l3 = nn.Linear(hidden_dim, 1)\n",
    "\n",
    "    def forward(self, x):\n",
    "        x = x.reshape(x.shape[0], 1, x.shape[1], x.shape[2])\n",
    "        enc = self.encoder1(x)\n",
    "        enc = self.rel_enc(enc)\n",
    "        enc = self.encoder2(enc)\n",
    "        enc = enc.reshape(enc.shape[0], enc.shape[2], enc.shape[3])\n",
    "        \n",
    "        enc = enc.permute(1, 0, 2)\n",
    "        ## enc = self.encoder(x)\n",
    "        ## dec = self.decoder(enc)\n",
    "        \n",
    "        out, _ = self.rnn1(enc)\n",
    "        ## out,_ = self.rnn2(out)\n",
    "        ## out,_ = self.rnn3(out)\n",
    "\n",
    "        mr = out[-1]\n",
    "        out = self.l1(mr)\n",
    "        out = self.dl1(out)\n",
    "        out = self.rel(out)\n",
    "        ## out = self.dl2(out)\n",
    "        out = self.l2(out)\n",
    "        out = self.l3(out)\n",
    "\n",
    "        return out.flatten()"
   ]
  },
  {
   "cell_type": "code",
   "execution_count": 28,
   "id": "5c26544f",
   "metadata": {
    "ExecuteTime": {
     "end_time": "2022-04-13T10:47:21.786920Z",
     "start_time": "2022-04-13T10:47:21.770918Z"
    }
   },
   "outputs": [
    {
     "data": {
      "text/plain": [
       "'# EGRU 모델\\nclass scorer(nn.Module):\\n    def __init__(self, input_dim, hidden_dim):\\n        super(scorer, self).__init__()\\n        self.hidden_dim = hidden_dim\\n        # 인코더\\n        self.encoder = nn.Sequential(\\n            nn.Linear(input_dim, int(input_dim/2)),\\n            nn.LeakyReLU(),\\n            nn.Linear(int(input_dim/2), int(input_dim/2)))\\n        # 디코더\\n        self.decoder = nn.Sequential(\\n            nn.Linear(int(input_dim/2), int(input_dim/2)),\\n            nn.LeakyReLU(),\\n            nn.Linear(int(input_dim/2), input_dim))\\n\\n        self.rnn1 = nn.GRU(input_dim, hidden_dim, bidirectional=False)\\n        # 층이 깊으면 학습이 안돼서 제외\\n        ## self.rnn2 = nn.GRU(hidden_dim, hidden_dim + int(hidden_dim/2), bidirectional=False)\\n        ## self.rnn3 = nn.GRU(int(hidden_dim/2), int(hidden_dim/4), bidirectional=False)\\n        self.dl1 = nn.Dropout(p=.5)\\n        self.l1 = nn.Linear(hidden_dim, hidden_dim + int(hidden_dim/2))\\n        self.rel = nn.LeakyReLU()\\n        ## self.dl2 = nn.Dropout(p=.5)\\n        self.l2 = nn.Linear(hidden_dim + int(hidden_dim/2), hidden_dim)\\n        self.l3 = nn.Linear(hidden_dim, 1)\\n\\n    def forward(self, x):\\n        x = x.permute(1, 0, 2)\\n        ## enc = self.encoder(x)\\n        ## dec = self.decoder(enc)\\n        \\n        out, _ = self.rnn1(x)\\n        ## out,_ = self.rnn2(out)\\n        ## out,_ = self.rnn3(out)\\n\\n        mr = out[-1]\\n        out = self.l1(mr)\\n        out = self.dl1(out)\\n        out = self.rel(out)\\n        ## out = self.dl2(out)\\n        out = self.l2(out)\\n        out = self.l3(out)\\n\\n        return out.flatten()'"
      ]
     },
     "execution_count": 28,
     "metadata": {},
     "output_type": "execute_result"
    }
   ],
   "source": [
    "'''# EGRU 모델\n",
    "class scorer(nn.Module):\n",
    "    def __init__(self, input_dim, hidden_dim):\n",
    "        super(scorer, self).__init__()\n",
    "        self.hidden_dim = hidden_dim\n",
    "        # 인코더\n",
    "        self.encoder = nn.Sequential(\n",
    "            nn.Linear(input_dim, int(input_dim/2)),\n",
    "            nn.LeakyReLU(),\n",
    "            nn.Linear(int(input_dim/2), int(input_dim/2)))\n",
    "        # 디코더\n",
    "        self.decoder = nn.Sequential(\n",
    "            nn.Linear(int(input_dim/2), int(input_dim/2)),\n",
    "            nn.LeakyReLU(),\n",
    "            nn.Linear(int(input_dim/2), input_dim))\n",
    "\n",
    "        self.rnn1 = nn.GRU(input_dim, hidden_dim, bidirectional=False)\n",
    "        # 층이 깊으면 학습이 안돼서 제외\n",
    "        ## self.rnn2 = nn.GRU(hidden_dim, hidden_dim + int(hidden_dim/2), bidirectional=False)\n",
    "        ## self.rnn3 = nn.GRU(int(hidden_dim/2), int(hidden_dim/4), bidirectional=False)\n",
    "        self.dl1 = nn.Dropout(p=.5)\n",
    "        self.l1 = nn.Linear(hidden_dim, hidden_dim + int(hidden_dim/2))\n",
    "        self.rel = nn.LeakyReLU()\n",
    "        ## self.dl2 = nn.Dropout(p=.5)\n",
    "        self.l2 = nn.Linear(hidden_dim + int(hidden_dim/2), hidden_dim)\n",
    "        self.l3 = nn.Linear(hidden_dim, 1)\n",
    "\n",
    "    def forward(self, x):\n",
    "        x = x.permute(1, 0, 2)\n",
    "        ## enc = self.encoder(x)\n",
    "        ## dec = self.decoder(enc)\n",
    "        \n",
    "        out, _ = self.rnn1(x)\n",
    "        ## out,_ = self.rnn2(out)\n",
    "        ## out,_ = self.rnn3(out)\n",
    "\n",
    "        mr = out[-1]\n",
    "        out = self.l1(mr)\n",
    "        out = self.dl1(out)\n",
    "        out = self.rel(out)\n",
    "        ## out = self.dl2(out)\n",
    "        out = self.l2(out)\n",
    "        out = self.l3(out)\n",
    "\n",
    "        return out.flatten()'''"
   ]
  },
  {
   "cell_type": "code",
   "execution_count": 29,
   "id": "e27070e8",
   "metadata": {
    "ExecuteTime": {
     "end_time": "2022-04-13T10:47:22.342047Z",
     "start_time": "2022-04-13T10:47:22.332045Z"
    }
   },
   "outputs": [],
   "source": [
    "#데이터 클래스 정의\n",
    "class Dataset(Dataset):\n",
    "    def __init__(self, X, y):\n",
    "\n",
    "        self.X = torch.tensor(X).float()\n",
    "        self.y = torch.tensor(y).float()\n",
    "\n",
    "    def __getitem__(self, i):\n",
    "        return (self.X[i], self.y[i])\n",
    "\n",
    "    def __len__(self):\n",
    "        return (len(self.y))"
   ]
  },
  {
   "cell_type": "code",
   "execution_count": 35,
   "id": "369aa759",
   "metadata": {
    "ExecuteTime": {
     "end_time": "2022-04-13T10:47:47.374099Z",
     "start_time": "2022-04-13T10:47:47.366087Z"
    }
   },
   "outputs": [],
   "source": [
    "#훈련 하이퍼 파라미터\n",
    "batch_size = 4\n",
    "lr = .001\n",
    "num_epoch = 30\n",
    "log_interval = 10\n",
    "loss_fn = nn.MSELoss()\n",
    "model_name = 'scoring.pth'\n",
    "sc_hidden_dim = 2500\n",
    "wei_dec = 0.00001\n",
    "\n",
    "kernel1 = train_X_ls[0].shape[1]//8 ## 시계열 커널\n",
    "kernel2 = train_X_ls[0].shape[2] ## 설명변수 커널"
   ]
  },
  {
   "cell_type": "code",
   "execution_count": 36,
   "id": "3492edc1",
   "metadata": {
    "ExecuteTime": {
     "end_time": "2022-04-13T10:48:33.550717Z",
     "start_time": "2022-04-13T10:47:47.934215Z"
    },
    "scrolled": true
   },
   "outputs": [
    {
     "name": "stdout",
     "output_type": "stream",
     "text": [
      "SPY 시작!!\n",
      "Train 시작!\n",
      "Epoch:  1  Batch ID:  0  Train Loss:  0.00022616906790062785\n",
      "Epoch:  1  Batch ID:  10  Train Loss:  0.029577779822416647\n",
      "Epoch:  1  Batch ID:  20  Train Loss:  0.016220616111933765\n",
      "epoch:  1  Valid Loss:  0.0007877352181822062\n",
      "Epoch:  2  Batch ID:  0  Train Loss:  0.0001546347775729373\n",
      "Epoch:  2  Batch ID:  10  Train Loss:  0.0013404584566491064\n",
      "Epoch:  2  Batch ID:  20  Train Loss:  0.0015632955979699979\n",
      "epoch:  2  Valid Loss:  0.0009539361393156772\n",
      "Epoch:  3  Batch ID:  0  Train Loss:  0.0008353222510777414\n",
      "Epoch:  3  Batch ID:  10  Train Loss:  0.000684238455671055\n",
      "Epoch:  3  Batch ID:  20  Train Loss:  0.0007802236449649735\n",
      "epoch:  3  Valid Loss:  0.0005832606523957414\n",
      "Epoch:  4  Batch ID:  0  Train Loss:  0.00031821391894482076\n",
      "Epoch:  4  Batch ID:  10  Train Loss:  0.0006705400354059583\n",
      "Epoch:  4  Batch ID:  20  Train Loss:  0.0006341088199059456\n",
      "epoch:  4  Valid Loss:  0.0007728109121671878\n",
      "Epoch:  5  Batch ID:  0  Train Loss:  0.0007092118030413985\n",
      "Epoch:  5  Batch ID:  10  Train Loss:  0.00038800735174762934\n",
      "Epoch:  5  Batch ID:  20  Train Loss:  0.0004869170764626081\n",
      "epoch:  5  Valid Loss:  0.0006322885583358584\n",
      "Epoch:  6  Batch ID:  0  Train Loss:  0.0005979500710964203\n",
      "Epoch:  6  Batch ID:  10  Train Loss:  0.00033727511948778886\n",
      "Epoch:  6  Batch ID:  20  Train Loss:  0.00034134830786483475\n",
      "epoch:  6  Valid Loss:  0.0006556719490617979\n",
      "Epoch:  7  Batch ID:  0  Train Loss:  0.00022447819355875254\n",
      "Epoch:  7  Batch ID:  10  Train Loss:  0.00032758568836884064\n",
      "Epoch:  7  Batch ID:  20  Train Loss:  0.00037650849970391606\n",
      "epoch:  7  Valid Loss:  0.0005648645031518148\n",
      "Epoch:  8  Batch ID:  0  Train Loss:  0.00035877764457836747\n",
      "Epoch:  8  Batch ID:  10  Train Loss:  0.0002470691582526673\n",
      "Epoch:  8  Batch ID:  20  Train Loss:  0.00022432952495624444\n",
      "epoch:  8  Valid Loss:  0.000707295836036792\n",
      "Epoch:  9  Batch ID:  0  Train Loss:  0.00023932461044751108\n",
      "Epoch:  9  Batch ID:  10  Train Loss:  0.00022083305884734727\n",
      "Epoch:  9  Batch ID:  20  Train Loss:  0.00023481654002786118\n",
      "epoch:  9  Valid Loss:  0.0007122142778825946\n",
      "Epoch:  10  Batch ID:  0  Train Loss:  0.0001930083381012082\n",
      "Epoch:  10  Batch ID:  10  Train Loss:  0.00022521009139547294\n",
      "Epoch:  10  Batch ID:  20  Train Loss:  0.00018416688613970544\n",
      "epoch:  10  Valid Loss:  0.0005814967092495257\n",
      "Epoch:  11  Batch ID:  0  Train Loss:  8.184190664906055e-05\n",
      "Epoch:  11  Batch ID:  10  Train Loss:  0.0001416421053528955\n",
      "Epoch:  11  Batch ID:  20  Train Loss:  0.00014752853634750603\n",
      "epoch:  11  Valid Loss:  0.0007267667764002302\n",
      "Epoch:  12  Batch ID:  0  Train Loss:  8.238013833761215e-05\n",
      "Epoch:  12  Batch ID:  10  Train Loss:  0.00012195262471240395\n",
      "Epoch:  12  Batch ID:  20  Train Loss:  0.00012595258444239983\n",
      "epoch:  12  Valid Loss:  0.0006593589666105496\n",
      "Epoch:  13  Batch ID:  0  Train Loss:  4.0507493395125493e-05\n",
      "Epoch:  13  Batch ID:  10  Train Loss:  9.05327094435713e-05\n",
      "Epoch:  13  Batch ID:  20  Train Loss:  9.383999462269934e-05\n",
      "epoch:  13  Valid Loss:  0.0006961254111956805\n",
      "Epoch:  14  Batch ID:  0  Train Loss:  7.374450797215104e-05\n",
      "Epoch:  14  Batch ID:  10  Train Loss:  7.1655416914754e-05\n",
      "Epoch:  14  Batch ID:  20  Train Loss:  0.00010176562002362473\n",
      "epoch:  14  Valid Loss:  0.0007642093235820843\n",
      "Epoch:  15  Batch ID:  0  Train Loss:  5.231621253187768e-05\n",
      "Epoch:  15  Batch ID:  10  Train Loss:  8.824086564180271e-05\n",
      "Epoch:  15  Batch ID:  20  Train Loss:  9.483000671718314e-05\n",
      "epoch:  15  Valid Loss:  0.0007131527114931183\n",
      "Epoch:  16  Batch ID:  0  Train Loss:  3.681403541122563e-05\n",
      "Epoch:  16  Batch ID:  10  Train Loss:  5.624999473432333e-05\n",
      "Epoch:  16  Batch ID:  20  Train Loss:  5.250828579456928e-05\n",
      "epoch:  16  Valid Loss:  0.0007210986902161191\n",
      "Epoch:  17  Batch ID:  0  Train Loss:  2.182918251492083e-05\n",
      "Epoch:  17  Batch ID:  10  Train Loss:  5.389799852392488e-05\n",
      "Epoch:  17  Batch ID:  20  Train Loss:  4.960490137558996e-05\n",
      "epoch:  17  Valid Loss:  0.0006726543433615007\n",
      "Epoch:  18  Batch ID:  0  Train Loss:  1.817336851672735e-05\n",
      "Epoch:  18  Batch ID:  10  Train Loss:  5.165794118511258e-05\n",
      "Epoch:  18  Batch ID:  20  Train Loss:  4.694261539433293e-05\n",
      "epoch:  18  Valid Loss:  0.000673428495550373\n",
      "Epoch:  19  Batch ID:  0  Train Loss:  6.832617145846598e-06\n",
      "Epoch:  19  Batch ID:  10  Train Loss:  4.188552760421192e-05\n",
      "Epoch:  19  Batch ID:  20  Train Loss:  4.828373857890256e-05\n",
      "epoch:  19  Valid Loss:  0.0006888255787392458\n",
      "Epoch:  20  Batch ID:  0  Train Loss:  3.0276198231149465e-05\n",
      "Epoch:  20  Batch ID:  10  Train Loss:  3.6764326895618893e-05\n",
      "Epoch:  20  Batch ID:  20  Train Loss:  4.2155535820278425e-05\n",
      "epoch:  20  Valid Loss:  0.0006918593596007364\n",
      "Epoch:  21  Batch ID:  0  Train Loss:  6.638789727730909e-06\n",
      "Epoch:  21  Batch ID:  10  Train Loss:  4.1098315994697096e-05\n",
      "Epoch:  21  Batch ID:  20  Train Loss:  5.012035154279493e-05\n",
      "epoch:  21  Valid Loss:  0.0006918593596007364\n",
      "Epoch:  22  Batch ID:  0  Train Loss:  1.4769995686947368e-05\n",
      "Epoch:  22  Batch ID:  10  Train Loss:  4.389720313404475e-05\n",
      "Epoch:  22  Batch ID:  20  Train Loss:  4.7074131078348036e-05\n",
      "epoch:  22  Valid Loss:  0.0006889112895199408\n",
      "Epoch:  23  Batch ID:  0  Train Loss:  3.031984124390874e-05\n",
      "Epoch:  23  Batch ID:  10  Train Loss:  3.383245397840669e-05\n",
      "Epoch:  23  Batch ID:  20  Train Loss:  3.665528408548978e-05\n",
      "epoch:  23  Valid Loss:  0.0006916659088650098\n",
      "Epoch:  24  Batch ID:  0  Train Loss:  1.4238992662285455e-05\n",
      "Epoch:  24  Batch ID:  10  Train Loss:  5.794162908304398e-05\n",
      "Epoch:  24  Batch ID:  20  Train Loss:  6.05895151931604e-05\n",
      "epoch:  24  Valid Loss:  0.0006796856541768648\n",
      "Epoch:  25  Batch ID:  0  Train Loss:  3.11872354359366e-05\n",
      "Epoch:  25  Batch ID:  10  Train Loss:  4.8261720166919986e-05\n",
      "Epoch:  25  Batch ID:  20  Train Loss:  5.1629205158644166e-05\n",
      "epoch:  25  Valid Loss:  0.0006720705180972194\n",
      "Epoch:  26  Batch ID:  0  Train Loss:  1.4856912457617e-05\n",
      "Epoch:  26  Batch ID:  10  Train Loss:  4.51963235470678e-05\n",
      "Epoch:  26  Batch ID:  20  Train Loss:  5.26572063487644e-05\n",
      "epoch:  26  Valid Loss:  0.0007017362634845389\n",
      "Epoch:  27  Batch ID:  0  Train Loss:  9.779745596460998e-06\n",
      "Epoch:  27  Batch ID:  10  Train Loss:  5.1419106966932304e-05\n",
      "Epoch:  27  Batch ID:  20  Train Loss:  4.214683864726491e-05\n",
      "epoch:  27  Valid Loss:  0.0007062135967620028\n",
      "Epoch:  28  Batch ID:  0  Train Loss:  2.393641261733137e-05\n",
      "Epoch:  28  Batch ID:  10  Train Loss:  3.691202709887875e-05\n",
      "Epoch:  28  Batch ID:  20  Train Loss:  5.7017802733060395e-05\n",
      "epoch:  28  Valid Loss:  0.0007252888244693168\n",
      "Epoch:  29  Batch ID:  0  Train Loss:  2.9730956157436594e-05\n",
      "Epoch:  29  Batch ID:  10  Train Loss:  4.277631408265072e-05\n",
      "Epoch:  29  Batch ID:  20  Train Loss:  6.444973665306211e-05\n",
      "epoch:  29  Valid Loss:  0.0006041688769376682\n",
      "Epoch:  30  Batch ID:  0  Train Loss:  7.139727676985785e-05\n",
      "Epoch:  30  Batch ID:  10  Train Loss:  4.88501027575694e-05\n",
      "Epoch:  30  Batch ID:  20  Train Loss:  4.351154818020101e-05\n",
      "epoch:  30  Valid Loss:  0.0007084404132911004\n",
      "Test 시작!\n",
      "Test Loss:  0.0012646167209216703\n"
     ]
    }
   ],
   "source": [
    "trainloss_ls = []\n",
    "validloss_ls = []\n",
    "testloss_ls = []\n",
    "ans_ls = []\n",
    "hat_ls = []\n",
    "\n",
    "for i in  range(len(assets)):\n",
    "    print(f\"{assets[i]} 시작!!\")\n",
    "    #GRU모델\n",
    "    model = scorer(train_X_ls[i].shape[2], sc_hidden_dim, kernel1, kernel2).cuda()\n",
    "    ## optimizer\n",
    "    optimizer = optim.Adam(model.parameters(), lr=lr,  weight_decay = wei_dec)\n",
    "    scheduler = optim.lr_scheduler.CosineAnnealingLR(optimizer, T_max=20, eta_min=0) ## lr 스케줄러\n",
    "\n",
    "    ## Dataset\n",
    "    traindataset = Dataset(train_X_ls[i],train_y_ls[i])\n",
    "    validataset = Dataset(valid_X_ls[i],valid_y_ls[i])\n",
    "    testdataset = Dataset(test_X_ls[i],test_y_ls[i])\n",
    "    train_dataloader = torch.utils.data.DataLoader(traindataset, batch_size=batch_size)\n",
    "    valid_dataloader = torch.utils.data.DataLoader(validataset, batch_size=batch_size)\n",
    "    test_dataloader = torch.utils.data.DataLoader(testdataset, batch_size=batch_size)\n",
    "\n",
    "\n",
    "    print(\"Train 시작!\")\n",
    "    trl = []\n",
    "    vll = []\n",
    "    #training scheme\n",
    "    for i in range(num_epoch):\n",
    "        train_loss = 0\n",
    "        valid_loss = 0\n",
    "        model.train()\n",
    "        #### Training\n",
    "        for batch_id, (X,y) in enumerate(train_dataloader):\n",
    "            optimizer.zero_grad()\n",
    "            out = model(X.cuda())\n",
    "\n",
    "            loss = loss_fn(out,y.cuda())\n",
    "\n",
    "            loss.backward()\n",
    "            optimizer.step()\n",
    "\n",
    "            lossavg = (loss/len(y)).data.cpu().numpy()\n",
    "            train_loss += lossavg\n",
    "\n",
    "            if batch_id % log_interval == 0:\n",
    "                print('Epoch: ',i+1,' Batch ID: ',batch_id,' Train Loss: ',train_loss / (batch_id+1))\n",
    "            trl.append(train_loss / (batch_id+1))\n",
    "        scheduler.step()\n",
    "\n",
    "\n",
    "        #### Evaluation on Validset\n",
    "        model.eval()\n",
    "        for batch_id, (X,y) in enumerate(valid_dataloader):\n",
    "            out = model(X.cuda())\n",
    "\n",
    "            loss = loss_fn(out,y.cuda())\n",
    "\n",
    "            lossavg = (loss/len(y)).data.cpu().numpy()\n",
    "            valid_loss += lossavg\n",
    "        print('epoch: ',i+1,' Valid Loss: ',valid_loss / (batch_id+1))\n",
    "        if len(vll) > 0:\n",
    "            if max(vll) < valid_loss.item():\n",
    "                torch.save(model.state_dict(),model_name)\n",
    "        else:\n",
    "            torch.save(model.state_dict(),model_name)\n",
    "        vll.append((valid_loss/ (batch_id+1)))\n",
    "        \n",
    "    trainloss_ls.append(trl)\n",
    "    validloss_ls.append(vll)\n",
    "\n",
    "    ## Best Model\n",
    "    model.load_state_dict(torch.load(model_name))\n",
    "\n",
    "    print(\"Test 시작!\")\n",
    "    outs = []\n",
    "    ys = []\n",
    "    \n",
    "    model.eval()\n",
    "    ## trainset\n",
    "    for batch_id, (X,y) in enumerate(train_dataloader):\n",
    "        out = model(X.cuda())\n",
    "        outs += out.tolist()\n",
    "        ys += y.tolist()\n",
    "    ## validset\n",
    "    for batch_id, (X,y) in enumerate(valid_dataloader):\n",
    "        out = model(X.cuda())\n",
    "        outs += out.tolist()\n",
    "        ys += y.tolist()\n",
    "    ## testset\n",
    "    test_loss=0\n",
    "    for batch_id, (X,y) in enumerate(test_dataloader):\n",
    "        out = model(X.cuda())\n",
    "        loss = loss_fn(out,y.cuda())\n",
    "        lossavg = (loss/len(y)).data.cpu().numpy()\n",
    "        test_loss += lossavg\n",
    "        outs += out.tolist()\n",
    "        ys += y.tolist()\n",
    "        \n",
    "    print('Test Loss: ',test_loss / (batch_id+1))\n",
    "    testloss_ls.append(test_loss)\n",
    "    hat_ls.append(outs) \n",
    "    ans_ls.append(ys)"
   ]
  },
  {
   "cell_type": "code",
   "execution_count": 37,
   "id": "fe477074",
   "metadata": {
    "ExecuteTime": {
     "end_time": "2022-04-13T10:48:35.592698Z",
     "start_time": "2022-04-13T10:48:35.587697Z"
    }
   },
   "outputs": [
    {
     "data": {
      "text/plain": [
       "0.0004999999999999998"
      ]
     },
     "execution_count": 37,
     "metadata": {},
     "output_type": "execute_result"
    }
   ],
   "source": [
    "optimizer.param_groups[0]['lr']"
   ]
  },
  {
   "cell_type": "code",
   "execution_count": 38,
   "id": "6a08f729",
   "metadata": {
    "ExecuteTime": {
     "end_time": "2022-04-13T10:48:36.507886Z",
     "start_time": "2022-04-13T10:48:36.236848Z"
    }
   },
   "outputs": [
    {
     "name": "stdout",
     "output_type": "stream",
     "text": [
      "SPY\n",
      "Train loss\n"
     ]
    },
    {
     "data": {
      "image/png": "[encoded data removed]",
      "text/plain": [
       "<Figure size 432x288 with 1 Axes>"
      ]
     },
     "metadata": {
      "needs_background": "light"
     },
     "output_type": "display_data"
    },
    {
     "name": "stdout",
     "output_type": "stream",
     "text": [
      "Validation loss\n"
     ]
    },
    {
     "data": {
      "image/png": "[encoded data removed]",
      "text/plain": [
       "<Figure size 432x288 with 1 Axes>"
      ]
     },
     "metadata": {
      "needs_background": "light"
     },
     "output_type": "display_data"
    },
    {
     "name": "stdout",
     "output_type": "stream",
     "text": [
      "Test loss: 0.0038\n",
      "--------------------------------------------------------\n"
     ]
    }
   ],
   "source": [
    "for i in range(len(assets)):\n",
    "    print(assets[i])\n",
    "    print('Train loss')\n",
    "    plt.plot(trainloss_ls[i])\n",
    "    plt.show()\n",
    "    print('Validation loss')\n",
    "    plt.plot(validloss_ls[i])\n",
    "    plt.show()\n",
    "    print(f'Test loss: {testloss_ls[i].round(4)}')\n",
    "    print('--------------------------------------------------------')"
   ]
  },
  {
   "cell_type": "code",
   "execution_count": 39,
   "id": "0f75cfb3",
   "metadata": {
    "ExecuteTime": {
     "end_time": "2022-04-13T10:48:37.783109Z",
     "start_time": "2022-04-13T10:48:37.421028Z"
    },
    "scrolled": true
   },
   "outputs": [
    {
     "name": "stdout",
     "output_type": "stream",
     "text": [
      "SPY\n",
      "validation\n"
     ]
    },
    {
     "data": {
      "image/png": "[encoded data removed]",
      "text/plain": [
       "<Figure size 432x288 with 1 Axes>"
      ]
     },
     "metadata": {
      "needs_background": "light"
     },
     "output_type": "display_data"
    },
    {
     "name": "stdout",
     "output_type": "stream",
     "text": [
      "test\n"
     ]
    },
    {
     "data": {
      "image/png": "[encoded data removed]",
      "text/plain": [
       "<Figure size 432x288 with 1 Axes>"
      ]
     },
     "metadata": {
      "needs_background": "light"
     },
     "output_type": "display_data"
    }
   ],
   "source": [
    "score_ls = []\n",
    "for i in range(len(assets)): \n",
    "    print(assets[i])\n",
    "    df_answer = pd.concat([train_ans_ls[i], valid_ans_ls[i], test_ans_ls[i]])\n",
    "    df_answer[assets[i]] = ans_ls[i]\n",
    "    df_answer[assets[i]+'_hat'] = hat_ls[i]\n",
    "    print(\"validation\")\n",
    "    df_answer.set_index('0')['2017-05-31':].plot()\n",
    "    plt.show()\n",
    "    print(\"test\")\n",
    "    df_answer.set_index('0')['2021-05-31':].plot()\n",
    "    score_ls.append(df_answer.set_index('0'))\n",
    "    plt.show()"
   ]
  },
  {
   "cell_type": "code",
   "execution_count": 40,
   "id": "6ac2622f",
   "metadata": {
    "ExecuteTime": {
     "end_time": "2022-04-13T10:48:44.941383Z",
     "start_time": "2022-04-13T10:48:44.932381Z"
    }
   },
   "outputs": [],
   "source": [
    "result_df = pd.concat(score_ls, axis=1)"
   ]
  },
  {
   "cell_type": "code",
   "execution_count": 41,
   "id": "7c778d9a",
   "metadata": {
    "ExecuteTime": {
     "end_time": "2022-04-13T10:48:45.331481Z",
     "start_time": "2022-04-13T10:48:45.324469Z"
    }
   },
   "outputs": [],
   "source": [
    "test = result_df['2021-05-31':].copy()"
   ]
  },
  {
   "cell_type": "code",
   "execution_count": 42,
   "id": "265d106a",
   "metadata": {
    "ExecuteTime": {
     "end_time": "2022-04-13T10:48:45.796576Z",
     "start_time": "2022-04-13T10:48:45.780572Z"
    }
   },
   "outputs": [],
   "source": [
    "test['ans'] = test['SPY']>=0\n",
    "test['pred'] = test['SPY_hat']>=0"
   ]
  },
  {
   "cell_type": "code",
   "execution_count": 43,
   "id": "29247d1e",
   "metadata": {
    "ExecuteTime": {
     "end_time": "2022-04-13T10:48:46.201668Z",
     "start_time": "2022-04-13T10:48:46.188665Z"
    }
   },
   "outputs": [
    {
     "data": {
      "text/plain": [
       "0.6666666666666666"
      ]
     },
     "execution_count": 43,
     "metadata": {},
     "output_type": "execute_result"
    }
   ],
   "source": [
    "(test['ans'] == test['pred']).sum()/len(test)"
   ]
  },
  {
   "cell_type": "code",
   "execution_count": 420,
   "id": "722441a5",
   "metadata": {
    "ExecuteTime": {
     "end_time": "2022-04-02T10:26:00.716261Z",
     "start_time": "2022-04-02T10:26:00.702259Z"
    }
   },
   "outputs": [],
   "source": [
    "date_idx = date.today().strftime('%Y-%m-%d')\n",
    "result_df.to_csv(f'data/result_{date_idx}.csv')"
   ]
  },
  {
   "cell_type": "code",
   "execution_count": null,
   "id": "092958fe",
   "metadata": {},
   "outputs": [],
   "source": []
  }
 ],
 "metadata": {
  "hide_input": false,
  "kernelspec": {
   "display_name": "Python 3 (ipykernel)",
   "language": "python",
   "name": "python3"
  },
  "language_info": {
   "codemirror_mode": {
    "name": "ipython",
    "version": 3
   },
   "file_extension": ".py",
   "mimetype": "text/x-python",
   "name": "python",
   "nbconvert_exporter": "python",
   "pygments_lexer": "ipython3",
   "version": "3.9.7"
  },
  "toc": {
   "base_numbering": 1,
   "nav_menu": {},
   "number_sections": true,
   "sideBar": true,
   "skip_h1_title": false,
   "title_cell": "Table of Contents",
   "title_sidebar": "Contents",
   "toc_cell": false,
   "toc_position": {},
   "toc_section_display": true,
   "toc_window_display": false
  },
  "varInspector": {
   "cols": {
    "lenName": 16,
    "lenType": 16,
    "lenVar": 40
   },
   "kernels_config": {
    "python": {
     "delete_cmd_postfix": "",
     "delete_cmd_prefix": "del ",
     "library": "var_list.py",
     "varRefreshCmd": "print(var_dic_list())"
    },
    "r": {
     "delete_cmd_postfix": ") ",
     "delete_cmd_prefix": "rm(",
     "library": "var_list.r",
     "varRefreshCmd": "cat(var_dic_list()) "
    }
   },
   "types_to_exclude": [
    "module",
    "function",
    "builtin_function_or_method",
    "instance",
    "_Feature"
   ],
   "window_display": false
  }
 },
 "nbformat": 4,
 "nbformat_minor": 5
}
