{
 "cells": [
  {
   "cell_type": "code",
   "execution_count": 232,
   "id": "d1be0ab3",
   "metadata": {
    "ExecuteTime": {
     "end_time": "2022-04-11T11:46:53.635416Z",
     "start_time": "2022-04-11T11:46:53.627415Z"
    }
   },
   "outputs": [],
   "source": [
    "import torch\n",
    "import torch.nn as nn\n",
    "import torch.nn.functional as F\n",
    "import numpy as np\n",
    "from torch.utils.data import Dataset, DataLoader\n",
    "import torch.optim as optim\n",
    "from tqdm.notebook import tqdm as tqdm \n",
    "import pandas as pd\n",
    "\n",
    "import matplotlib.pyplot as plt"
   ]
  },
  {
   "cell_type": "code",
   "execution_count": 233,
   "id": "2d0823a6",
   "metadata": {
    "ExecuteTime": {
     "end_time": "2022-04-11T11:46:53.830460Z",
     "start_time": "2022-04-11T11:46:53.826459Z"
    }
   },
   "outputs": [],
   "source": [
    "from datetime import date"
   ]
  },
  {
   "cell_type": "markdown",
   "id": "72f442d0",
   "metadata": {},
   "source": [
    "## Data"
   ]
  },
  {
   "cell_type": "code",
   "execution_count": 234,
   "id": "ec562d3e",
   "metadata": {
    "ExecuteTime": {
     "end_time": "2022-04-11T11:46:54.191314Z",
     "start_time": "2022-04-11T11:46:54.187313Z"
    }
   },
   "outputs": [],
   "source": [
    "## , 'QQQ', 'VEA', 'VWO', 'TLT', 'IEF', 'SHY', 'IAU'"
   ]
  },
  {
   "cell_type": "code",
   "execution_count": 235,
   "id": "6b9b017f",
   "metadata": {
    "ExecuteTime": {
     "end_time": "2022-04-11T11:46:54.386357Z",
     "start_time": "2022-04-11T11:46:54.379356Z"
    }
   },
   "outputs": [],
   "source": [
    "assets = ['SPY']"
   ]
  },
  {
   "cell_type": "code",
   "execution_count": 236,
   "id": "85131683",
   "metadata": {
    "ExecuteTime": {
     "end_time": "2022-04-11T11:46:54.596405Z",
     "start_time": "2022-04-11T11:46:54.573400Z"
    }
   },
   "outputs": [],
   "source": [
    "train_X_ls = []\n",
    "train_y_ls = []\n",
    "valid_X_ls = []\n",
    "valid_y_ls = []\n",
    "test_X_ls = []\n",
    "test_y_ls = []\n",
    "\n",
    "#데이터 로딩\n",
    "for ass in assets:\n",
    "    train_X_ls.append(np.load(f'data/modeling/{ass}_train_X.npy'))\n",
    "    train_y_ls.append(np.load(f'data/modeling/{ass}_train_y.npy'))\n",
    "    valid_X_ls.append(np.load(f'data/modeling/{ass}_valid_X.npy'))\n",
    "    valid_y_ls.append(np.load(f'data/modeling/{ass}_valid_y.npy'))\n",
    "    test_X_ls.append(np.load(f'data/modeling/{ass}_test_X.npy'))\n",
    "    test_y_ls.append(np.load(f'data/modeling/{ass}_test_y.npy'))\n",
    "\n",
    "## 모든자산군에 날짜는 같지만..\n",
    "train_ans_ls = []\n",
    "valid_ans_ls = []\n",
    "test_ans_ls = []\n",
    "for ass in assets:    \n",
    "    train_ans_ls.append(pd.read_csv(f'data/modeling/{ass}_train_ans.csv', index_col=0))\n",
    "    valid_ans_ls.append(pd.read_csv(f'data/modeling/{ass}_valid_ans.csv', index_col=0))\n",
    "    test_ans_ls.append(pd.read_csv(f'data/modeling/{ass}_test_ans.csv', index_col=0))"
   ]
  },
  {
   "cell_type": "markdown",
   "id": "935ba9f7",
   "metadata": {},
   "source": [
    "## Model"
   ]
  },
  {
   "cell_type": "code",
   "execution_count": 237,
   "id": "a0d49e85",
   "metadata": {
    "ExecuteTime": {
     "end_time": "2022-04-11T11:46:55.138627Z",
     "start_time": "2022-04-11T11:46:55.115622Z"
    }
   },
   "outputs": [],
   "source": [
    "# EGRU 모델\n",
    "class scorer(nn.Module):\n",
    "    def __init__(self, input_dim, hidden_dim, kernel1, kernel2):\n",
    "        super(scorer, self).__init__()\n",
    "        self.hidden_dim = hidden_dim\n",
    "        # 인코더\n",
    "        self.encoder = nn.Conv2d(1, 1, kernel_size=(kernel1, kernel2))\n",
    "        \n",
    "        self.rnn1 = nn.GRU(input_dim - kernel2 + 1, hidden_dim, bidirectional=False)\n",
    "        # 층이 깊으면 학습이 안돼서 제외\n",
    "        ## self.rnn2 = nn.GRU(hidden_dim, hidden_dim + int(hidden_dim/2), bidirectional=False)\n",
    "        ## self.rnn3 = nn.GRU(int(hidden_dim/2), int(hidden_dim/4), bidirectional=False)\n",
    "        self.dl1 = nn.Dropout(p=.5)\n",
    "        self.l1 = nn.Linear(hidden_dim, hidden_dim + int(hidden_dim/2))\n",
    "        self.rel = nn.LeakyReLU()\n",
    "        ## self.dl2 = nn.Dropout(p=.5)\n",
    "        self.l2 = nn.Linear(hidden_dim + int(hidden_dim/2), hidden_dim)\n",
    "        self.l3 = nn.Linear(hidden_dim, 1)\n",
    "\n",
    "    def forward(self, x):\n",
    "        x = x.reshape(x.shape[0], 1, x.shape[1], x.shape[2])\n",
    "        enc = self.encoder(x)\n",
    "        enc = enc.reshape(enc.shape[0], enc.shape[2], enc.shape[3])\n",
    "        \n",
    "        enc = enc.permute(1, 0, 2)\n",
    "        ## enc = self.encoder(x)\n",
    "        ## dec = self.decoder(enc)\n",
    "        \n",
    "        out, _ = self.rnn1(enc)\n",
    "        ## out,_ = self.rnn2(out)\n",
    "        ## out,_ = self.rnn3(out)\n",
    "\n",
    "        mr = out[-1]\n",
    "        out = self.l1(mr)\n",
    "        out = self.dl1(out)\n",
    "        out = self.rel(out)\n",
    "        ## out = self.dl2(out)\n",
    "        out = self.l2(out)\n",
    "        out = self.l3(out)\n",
    "\n",
    "        return out.flatten()"
   ]
  },
  {
   "cell_type": "code",
   "execution_count": 238,
   "id": "5c26544f",
   "metadata": {
    "ExecuteTime": {
     "end_time": "2022-04-11T11:46:55.498477Z",
     "start_time": "2022-04-11T11:46:55.491476Z"
    }
   },
   "outputs": [
    {
     "data": {
      "text/plain": [
       "'# EGRU 모델\\nclass scorer(nn.Module):\\n    def __init__(self, input_dim, hidden_dim):\\n        super(scorer, self).__init__()\\n        self.hidden_dim = hidden_dim\\n        # 인코더\\n        self.encoder = nn.Sequential(\\n            nn.Linear(input_dim, int(input_dim/2)),\\n            nn.LeakyReLU(),\\n            nn.Linear(int(input_dim/2), int(input_dim/2)))\\n        # 디코더\\n        self.decoder = nn.Sequential(\\n            nn.Linear(int(input_dim/2), int(input_dim/2)),\\n            nn.LeakyReLU(),\\n            nn.Linear(int(input_dim/2), input_dim))\\n\\n        self.rnn1 = nn.GRU(input_dim, hidden_dim, bidirectional=False)\\n        # 층이 깊으면 학습이 안돼서 제외\\n        ## self.rnn2 = nn.GRU(hidden_dim, hidden_dim + int(hidden_dim/2), bidirectional=False)\\n        ## self.rnn3 = nn.GRU(int(hidden_dim/2), int(hidden_dim/4), bidirectional=False)\\n        self.dl1 = nn.Dropout(p=.5)\\n        self.l1 = nn.Linear(hidden_dim, hidden_dim + int(hidden_dim/2))\\n        self.rel = nn.LeakyReLU()\\n        ## self.dl2 = nn.Dropout(p=.5)\\n        self.l2 = nn.Linear(hidden_dim + int(hidden_dim/2), hidden_dim)\\n        self.l3 = nn.Linear(hidden_dim, 1)\\n\\n    def forward(self, x):\\n        x = x.permute(1, 0, 2)\\n        ## enc = self.encoder(x)\\n        ## dec = self.decoder(enc)\\n        \\n        out, _ = self.rnn1(x)\\n        ## out,_ = self.rnn2(out)\\n        ## out,_ = self.rnn3(out)\\n\\n        mr = out[-1]\\n        out = self.l1(mr)\\n        out = self.dl1(out)\\n        out = self.rel(out)\\n        ## out = self.dl2(out)\\n        out = self.l2(out)\\n        out = self.l3(out)\\n\\n        return out.flatten()'"
      ]
     },
     "execution_count": 238,
     "metadata": {},
     "output_type": "execute_result"
    }
   ],
   "source": [
    "'''# EGRU 모델\n",
    "class scorer(nn.Module):\n",
    "    def __init__(self, input_dim, hidden_dim):\n",
    "        super(scorer, self).__init__()\n",
    "        self.hidden_dim = hidden_dim\n",
    "        # 인코더\n",
    "        self.encoder = nn.Sequential(\n",
    "            nn.Linear(input_dim, int(input_dim/2)),\n",
    "            nn.LeakyReLU(),\n",
    "            nn.Linear(int(input_dim/2), int(input_dim/2)))\n",
    "        # 디코더\n",
    "        self.decoder = nn.Sequential(\n",
    "            nn.Linear(int(input_dim/2), int(input_dim/2)),\n",
    "            nn.LeakyReLU(),\n",
    "            nn.Linear(int(input_dim/2), input_dim))\n",
    "\n",
    "        self.rnn1 = nn.GRU(input_dim, hidden_dim, bidirectional=False)\n",
    "        # 층이 깊으면 학습이 안돼서 제외\n",
    "        ## self.rnn2 = nn.GRU(hidden_dim, hidden_dim + int(hidden_dim/2), bidirectional=False)\n",
    "        ## self.rnn3 = nn.GRU(int(hidden_dim/2), int(hidden_dim/4), bidirectional=False)\n",
    "        self.dl1 = nn.Dropout(p=.5)\n",
    "        self.l1 = nn.Linear(hidden_dim, hidden_dim + int(hidden_dim/2))\n",
    "        self.rel = nn.LeakyReLU()\n",
    "        ## self.dl2 = nn.Dropout(p=.5)\n",
    "        self.l2 = nn.Linear(hidden_dim + int(hidden_dim/2), hidden_dim)\n",
    "        self.l3 = nn.Linear(hidden_dim, 1)\n",
    "\n",
    "    def forward(self, x):\n",
    "        x = x.permute(1, 0, 2)\n",
    "        ## enc = self.encoder(x)\n",
    "        ## dec = self.decoder(enc)\n",
    "        \n",
    "        out, _ = self.rnn1(x)\n",
    "        ## out,_ = self.rnn2(out)\n",
    "        ## out,_ = self.rnn3(out)\n",
    "\n",
    "        mr = out[-1]\n",
    "        out = self.l1(mr)\n",
    "        out = self.dl1(out)\n",
    "        out = self.rel(out)\n",
    "        ## out = self.dl2(out)\n",
    "        out = self.l2(out)\n",
    "        out = self.l3(out)\n",
    "\n",
    "        return out.flatten()'''"
   ]
  },
  {
   "cell_type": "code",
   "execution_count": 239,
   "id": "e27070e8",
   "metadata": {
    "ExecuteTime": {
     "end_time": "2022-04-11T11:46:56.174841Z",
     "start_time": "2022-04-11T11:46:56.163838Z"
    }
   },
   "outputs": [],
   "source": [
    "#데이터 클래스 정의\n",
    "class Dataset(Dataset):\n",
    "    def __init__(self, X, y):\n",
    "\n",
    "        self.X = torch.tensor(X).float()\n",
    "        self.y = torch.tensor(y).float()\n",
    "\n",
    "    def __getitem__(self, i):\n",
    "        return (self.X[i], self.y[i])\n",
    "\n",
    "    def __len__(self):\n",
    "        return (len(self.y))"
   ]
  },
  {
   "cell_type": "code",
   "execution_count": 278,
   "id": "369aa759",
   "metadata": {
    "ExecuteTime": {
     "end_time": "2022-04-11T12:08:00.311374Z",
     "start_time": "2022-04-11T12:08:00.302370Z"
    }
   },
   "outputs": [],
   "source": [
    "#훈련 하이퍼 파라미터\n",
    "batch_size = 4\n",
    "lr = .001\n",
    "num_epoch = 10\n",
    "log_interval = 10\n",
    "loss_fn = nn.MSELoss()\n",
    "model_name = 'scoring.pth'\n",
    "sc_hidden_dim = 2500\n",
    "wei_dec = 0.00001\n",
    "\n",
    "kernel1 = train_X_ls[0].shape[1]//8 ## 시계열 커널\n",
    "kernel2 = train_X_ls[0].shape[2]//2 ## 설명변수 커널"
   ]
  },
  {
   "cell_type": "code",
   "execution_count": 279,
   "id": "3492edc1",
   "metadata": {
    "ExecuteTime": {
     "end_time": "2022-04-11T12:08:13.426777Z",
     "start_time": "2022-04-11T12:08:00.847440Z"
    },
    "scrolled": true
   },
   "outputs": [
    {
     "name": "stdout",
     "output_type": "stream",
     "text": [
      "SPY 시작!!\n",
      "Train 시작!\n",
      "Epoch:  1  Batch ID:  0  Train Loss:  0.0001242601138073951\n",
      "Epoch:  1  Batch ID:  10  Train Loss:  0.032083583101418546\n",
      "Epoch:  1  Batch ID:  20  Train Loss:  0.019048746140296793\n",
      "epoch:  1  Valid Loss:  0.0019374103079220124\n",
      "Epoch:  2  Batch ID:  0  Train Loss:  0.001373618608340621\n",
      "Epoch:  2  Batch ID:  10  Train Loss:  0.0008436285451435568\n",
      "Epoch:  2  Batch ID:  20  Train Loss:  0.0010664862839760082\n",
      "epoch:  2  Valid Loss:  0.0006431669268446664\n",
      "Epoch:  3  Batch ID:  0  Train Loss:  0.00044799837633036077\n",
      "Epoch:  3  Batch ID:  10  Train Loss:  0.0007323715597687459\n",
      "Epoch:  3  Batch ID:  20  Train Loss:  0.0008105604082673034\n",
      "epoch:  3  Valid Loss:  0.0008331802261333602\n",
      "Epoch:  4  Batch ID:  0  Train Loss:  0.000639400677755475\n",
      "Epoch:  4  Batch ID:  10  Train Loss:  0.0004944297556490214\n",
      "Epoch:  4  Batch ID:  20  Train Loss:  0.0006539818915327833\n",
      "epoch:  4  Valid Loss:  0.0005538802514214088\n",
      "Epoch:  5  Batch ID:  0  Train Loss:  0.00015044219617266208\n",
      "Epoch:  5  Batch ID:  10  Train Loss:  0.0005216568361819637\n",
      "Epoch:  5  Batch ID:  20  Train Loss:  0.0006512571760270346\n",
      "epoch:  5  Valid Loss:  0.0006286621501203626\n",
      "Epoch:  6  Batch ID:  0  Train Loss:  0.0001851222332334146\n",
      "Epoch:  6  Batch ID:  10  Train Loss:  0.00029946729740583\n",
      "Epoch:  6  Batch ID:  20  Train Loss:  0.00038335258488130295\n",
      "epoch:  6  Valid Loss:  0.0005538735440495657\n",
      "Epoch:  7  Batch ID:  0  Train Loss:  0.00016907167446333915\n",
      "Epoch:  7  Batch ID:  10  Train Loss:  0.00026884773714383215\n",
      "Epoch:  7  Batch ID:  20  Train Loss:  0.00035894833923694457\n",
      "epoch:  7  Valid Loss:  0.0005635404922941234\n",
      "Epoch:  8  Batch ID:  0  Train Loss:  0.00011898746015504003\n",
      "Epoch:  8  Batch ID:  10  Train Loss:  0.0003218744896003045\n",
      "Epoch:  8  Batch ID:  20  Train Loss:  0.0003972040812229915\n",
      "epoch:  8  Valid Loss:  0.0005872322702392315\n",
      "Epoch:  9  Batch ID:  0  Train Loss:  0.00011282964260317385\n",
      "Epoch:  9  Batch ID:  10  Train Loss:  0.00032122848146669145\n",
      "Epoch:  9  Batch ID:  20  Train Loss:  0.0003561670443256541\n",
      "epoch:  9  Valid Loss:  0.0006149045105606395\n",
      "Epoch:  10  Batch ID:  0  Train Loss:  0.0003023179597221315\n",
      "Epoch:  10  Batch ID:  10  Train Loss:  0.00028944244761739605\n",
      "Epoch:  10  Batch ID:  20  Train Loss:  0.00035328696356459873\n",
      "epoch:  10  Valid Loss:  0.0005737296833103755\n",
      "Test 시작!\n",
      "Test Loss:  0.001124792800207312\n"
     ]
    }
   ],
   "source": [
    "trainloss_ls = []\n",
    "validloss_ls = []\n",
    "testloss_ls = []\n",
    "ans_ls = []\n",
    "hat_ls = []\n",
    "\n",
    "for i in  range(len(assets)):\n",
    "    print(f\"{assets[i]} 시작!!\")\n",
    "    #GRU모델\n",
    "    model = scorer(train_X_ls[i].shape[2], sc_hidden_dim, kernel1, kernel2).cuda()\n",
    "    ## optimizer\n",
    "    optimizer = optim.Adam(model.parameters(), lr=lr,  weight_decay = wei_dec)\n",
    "    scheduler = optim.lr_scheduler.CosineAnnealingLR(optimizer, T_max=20, eta_min=0) ## lr 스케줄러\n",
    "\n",
    "    ## Dataset\n",
    "    traindataset = Dataset(train_X_ls[i],train_y_ls[i])\n",
    "    validataset = Dataset(valid_X_ls[i],valid_y_ls[i])\n",
    "    testdataset = Dataset(test_X_ls[i],test_y_ls[i])\n",
    "    train_dataloader = torch.utils.data.DataLoader(traindataset, batch_size=batch_size)\n",
    "    valid_dataloader = torch.utils.data.DataLoader(validataset, batch_size=batch_size)\n",
    "    test_dataloader = torch.utils.data.DataLoader(testdataset, batch_size=batch_size)\n",
    "\n",
    "\n",
    "    print(\"Train 시작!\")\n",
    "    trl = []\n",
    "    vll = []\n",
    "    #training scheme\n",
    "    for i in range(num_epoch):\n",
    "        train_loss = 0\n",
    "        valid_loss = 0\n",
    "        model.train()\n",
    "        #### Training\n",
    "        for batch_id, (X,y) in enumerate(train_dataloader):\n",
    "            optimizer.zero_grad()\n",
    "            out = model(X.cuda())\n",
    "\n",
    "            loss = loss_fn(out,y.cuda())\n",
    "\n",
    "            loss.backward()\n",
    "            optimizer.step()\n",
    "\n",
    "            lossavg = (loss/len(y)).data.cpu().numpy()\n",
    "            train_loss += lossavg\n",
    "\n",
    "            if batch_id % log_interval == 0:\n",
    "                print('Epoch: ',i+1,' Batch ID: ',batch_id,' Train Loss: ',train_loss / (batch_id+1))\n",
    "            trl.append(train_loss / (batch_id+1))\n",
    "        scheduler.step()\n",
    "\n",
    "\n",
    "        #### Evaluation on Validset\n",
    "        model.eval()\n",
    "        for batch_id, (X,y) in enumerate(valid_dataloader):\n",
    "            out = model(X.cuda())\n",
    "\n",
    "            loss = loss_fn(out,y.cuda())\n",
    "\n",
    "            lossavg = (loss/len(y)).data.cpu().numpy()\n",
    "            valid_loss += lossavg\n",
    "        print('epoch: ',i+1,' Valid Loss: ',valid_loss / (batch_id+1))\n",
    "        if len(vll) > 0:\n",
    "            if max(vll) < valid_loss.item():\n",
    "                torch.save(model.state_dict(),model_name)\n",
    "        else:\n",
    "            torch.save(model.state_dict(),model_name)\n",
    "        vll.append((valid_loss/ (batch_id+1)))\n",
    "        \n",
    "    trainloss_ls.append(trl)\n",
    "    validloss_ls.append(vll)\n",
    "\n",
    "    ## Best Model\n",
    "    model.load_state_dict(torch.load(model_name))\n",
    "\n",
    "    print(\"Test 시작!\")\n",
    "    outs = []\n",
    "    ys = []\n",
    "    \n",
    "    model.eval()\n",
    "    ## trainset\n",
    "    for batch_id, (X,y) in enumerate(train_dataloader):\n",
    "        out = model(X.cuda())\n",
    "        outs += out.tolist()\n",
    "        ys += y.tolist()\n",
    "    ## validset\n",
    "    for batch_id, (X,y) in enumerate(valid_dataloader):\n",
    "        out = model(X.cuda())\n",
    "        outs += out.tolist()\n",
    "        ys += y.tolist()\n",
    "    ## testset\n",
    "    test_loss=0\n",
    "    for batch_id, (X,y) in enumerate(test_dataloader):\n",
    "        out = model(X.cuda())\n",
    "        loss = loss_fn(out,y.cuda())\n",
    "        lossavg = (loss/len(y)).data.cpu().numpy()\n",
    "        test_loss += lossavg\n",
    "        outs += out.tolist()\n",
    "        ys += y.tolist()\n",
    "        \n",
    "    print('Test Loss: ',test_loss / (batch_id+1))\n",
    "    testloss_ls.append(test_loss)\n",
    "    hat_ls.append(outs) \n",
    "    ans_ls.append(ys)"
   ]
  },
  {
   "cell_type": "code",
   "execution_count": 280,
   "id": "fe477074",
   "metadata": {
    "ExecuteTime": {
     "end_time": "2022-04-11T12:08:14.373405Z",
     "start_time": "2022-04-11T12:08:14.367403Z"
    }
   },
   "outputs": [
    {
     "data": {
      "text/plain": [
       "0.0005"
      ]
     },
     "execution_count": 280,
     "metadata": {},
     "output_type": "execute_result"
    }
   ],
   "source": [
    "optimizer.param_groups[0]['lr']"
   ]
  },
  {
   "cell_type": "code",
   "execution_count": 281,
   "id": "6a08f729",
   "metadata": {
    "ExecuteTime": {
     "end_time": "2022-04-11T12:08:15.063841Z",
     "start_time": "2022-04-11T12:08:14.847792Z"
    }
   },
   "outputs": [
    {
     "name": "stdout",
     "output_type": "stream",
     "text": [
      "SPY\n",
      "Train loss\n"
     ]
    },
    {
     "data": {
      "image/png": "[encoded data removed]",
      "text/plain": [
       "<Figure size 432x288 with 1 Axes>"
      ]
     },
     "metadata": {
      "needs_background": "light"
     },
     "output_type": "display_data"
    },
    {
     "name": "stdout",
     "output_type": "stream",
     "text": [
      "Validation loss\n"
     ]
    },
    {
     "data": {
      "image/png": "[encoded data removed]",
      "text/plain": [
       "<Figure size 432x288 with 1 Axes>"
      ]
     },
     "metadata": {
      "needs_background": "light"
     },
     "output_type": "display_data"
    },
    {
     "name": "stdout",
     "output_type": "stream",
     "text": [
      "Test loss: 0.0034\n",
      "--------------------------------------------------------\n"
     ]
    }
   ],
   "source": [
    "for i in range(len(assets)):\n",
    "    print(assets[i])\n",
    "    print('Train loss')\n",
    "    plt.plot(trainloss_ls[i])\n",
    "    plt.show()\n",
    "    print('Validation loss')\n",
    "    plt.plot(validloss_ls[i])\n",
    "    plt.show()\n",
    "    print(f'Test loss: {testloss_ls[i].round(4)}')\n",
    "    print('--------------------------------------------------------')"
   ]
  },
  {
   "cell_type": "code",
   "execution_count": 282,
   "id": "0f75cfb3",
   "metadata": {
    "ExecuteTime": {
     "end_time": "2022-04-11T12:08:15.994769Z",
     "start_time": "2022-04-11T12:08:15.703705Z"
    },
    "scrolled": true
   },
   "outputs": [
    {
     "name": "stdout",
     "output_type": "stream",
     "text": [
      "SPY\n",
      "validation\n"
     ]
    },
    {
     "data": {
      "image/png": "[encoded data removed]",
      "text/plain": [
       "<Figure size 432x288 with 1 Axes>"
      ]
     },
     "metadata": {
      "needs_background": "light"
     },
     "output_type": "display_data"
    },
    {
     "name": "stdout",
     "output_type": "stream",
     "text": [
      "test\n"
     ]
    },
    {
     "data": {
      "image/png": "[encoded data removed]",
      "text/plain": [
       "<Figure size 432x288 with 1 Axes>"
      ]
     },
     "metadata": {
      "needs_background": "light"
     },
     "output_type": "display_data"
    }
   ],
   "source": [
    "score_ls = []\n",
    "for i in range(len(assets)): \n",
    "    print(assets[i])\n",
    "    df_answer = pd.concat([train_ans_ls[i], valid_ans_ls[i], test_ans_ls[i]])\n",
    "    df_answer[assets[i]] = ans_ls[i]\n",
    "    df_answer[assets[i]+'_hat'] = hat_ls[i]\n",
    "    print(\"validation\")\n",
    "    df_answer.set_index('0')['2017-05-31':].plot()\n",
    "    plt.show()\n",
    "    print(\"test\")\n",
    "    df_answer.set_index('0')['2021-05-31':].plot()\n",
    "    score_ls.append(df_answer.set_index('0'))\n",
    "    plt.show()"
   ]
  },
  {
   "cell_type": "code",
   "execution_count": 283,
   "id": "6ac2622f",
   "metadata": {
    "ExecuteTime": {
     "end_time": "2022-04-11T12:08:22.407189Z",
     "start_time": "2022-04-11T12:08:22.401187Z"
    }
   },
   "outputs": [],
   "source": [
    "result_df = pd.concat(score_ls, axis=1)"
   ]
  },
  {
   "cell_type": "code",
   "execution_count": 284,
   "id": "7c778d9a",
   "metadata": {
    "ExecuteTime": {
     "end_time": "2022-04-11T12:08:22.873327Z",
     "start_time": "2022-04-11T12:08:22.856324Z"
    }
   },
   "outputs": [],
   "source": [
    "test = result_df['2021-05-31':].copy()"
   ]
  },
  {
   "cell_type": "code",
   "execution_count": 285,
   "id": "265d106a",
   "metadata": {
    "ExecuteTime": {
     "end_time": "2022-04-11T12:08:23.719555Z",
     "start_time": "2022-04-11T12:08:23.704542Z"
    }
   },
   "outputs": [],
   "source": [
    "test['ans'] = test['SPY']>=0\n",
    "test['pred'] = test['SPY_hat']>=0"
   ]
  },
  {
   "cell_type": "code",
   "execution_count": 286,
   "id": "29247d1e",
   "metadata": {
    "ExecuteTime": {
     "end_time": "2022-04-11T12:08:24.595766Z",
     "start_time": "2022-04-11T12:08:24.584757Z"
    }
   },
   "outputs": [
    {
     "data": {
      "text/plain": [
       "0.5833333333333334"
      ]
     },
     "execution_count": 286,
     "metadata": {},
     "output_type": "execute_result"
    }
   ],
   "source": [
    "(test['ans'] == test['pred']).sum()/len(test)"
   ]
  },
  {
   "cell_type": "code",
   "execution_count": null,
   "id": "b80e8050",
   "metadata": {},
   "outputs": [],
   "source": []
  },
  {
   "cell_type": "code",
   "execution_count": 420,
   "id": "722441a5",
   "metadata": {
    "ExecuteTime": {
     "end_time": "2022-04-02T10:26:00.716261Z",
     "start_time": "2022-04-02T10:26:00.702259Z"
    }
   },
   "outputs": [],
   "source": [
    "date_idx = date.today().strftime('%Y-%m-%d')\n",
    "result_df.to_csv(f'data/result_{date_idx}.csv')"
   ]
  },
  {
   "cell_type": "code",
   "execution_count": null,
   "id": "092958fe",
   "metadata": {},
   "outputs": [],
   "source": []
  }
 ],
 "metadata": {
  "hide_input": false,
  "kernelspec": {
   "display_name": "Python 3 (ipykernel)",
   "language": "python",
   "name": "python3"
  },
  "language_info": {
   "codemirror_mode": {
    "name": "ipython",
    "version": 3
   },
   "file_extension": ".py",
   "mimetype": "text/x-python",
   "name": "python",
   "nbconvert_exporter": "python",
   "pygments_lexer": "ipython3",
   "version": "3.9.7"
  },
  "toc": {
   "base_numbering": 1,
   "nav_menu": {},
   "number_sections": true,
   "sideBar": true,
   "skip_h1_title": false,
   "title_cell": "Table of Contents",
   "title_sidebar": "Contents",
   "toc_cell": false,
   "toc_position": {},
   "toc_section_display": true,
   "toc_window_display": false
  },
  "varInspector": {
   "cols": {
    "lenName": 16,
    "lenType": 16,
    "lenVar": 40
   },
   "kernels_config": {
    "python": {
     "delete_cmd_postfix": "",
     "delete_cmd_prefix": "del ",
     "library": "var_list.py",
     "varRefreshCmd": "print(var_dic_list())"
    },
    "r": {
     "delete_cmd_postfix": ") ",
     "delete_cmd_prefix": "rm(",
     "library": "var_list.r",
     "varRefreshCmd": "cat(var_dic_list()) "
    }
   },
   "types_to_exclude": [
    "module",
    "function",
    "builtin_function_or_method",
    "instance",
    "_Feature"
   ],
   "window_display": false
  }
 },
 "nbformat": 4,
 "nbformat_minor": 5
}
